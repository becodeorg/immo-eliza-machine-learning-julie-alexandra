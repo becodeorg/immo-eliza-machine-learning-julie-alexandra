{
 "cells": [
  {
   "cell_type": "markdown",
   "metadata": {},
   "source": [
    "#### Import packages"
   ]
  },
  {
   "cell_type": "code",
   "execution_count": 31,
   "metadata": {},
   "outputs": [],
   "source": [
    "import pandas as pd \n",
    "import numpy as np\n",
    "import matplotlib.pyplot as plt \n",
    "import seaborn as sns \n",
    "\n",
    "from sklearn.model_selection import train_test_split\n",
    "from sklearn.linear_model import LinearRegression\n",
    "from sklearn.ensemble import RandomForestRegressor, GradientBoostingRegressor\n",
    "from sklearn.metrics import mean_absolute_error, mean_absolute_percentage_error, mean_squared_error, r2_score\n",
    "\n",
    "from xgboost import XGBRegressor\n"
   ]
  },
  {
   "cell_type": "markdown",
   "metadata": {},
   "source": [
    "#### Import cleaned DataFrame"
   ]
  },
  {
   "cell_type": "code",
   "execution_count": 32,
   "metadata": {},
   "outputs": [
    {
     "data": {
      "application/vnd.microsoft.datawrangler.viewer.v0+json": {
       "columns": [
        {
         "name": "index",
         "rawType": "int64",
         "type": "integer"
        },
        {
         "name": "bedroomCount",
         "rawType": "float64",
         "type": "float"
        },
        {
         "name": "bathroomCount",
         "rawType": "float64",
         "type": "float"
        },
        {
         "name": "postCode",
         "rawType": "int64",
         "type": "integer"
        },
        {
         "name": "habitableSurface",
         "rawType": "float64",
         "type": "float"
        },
        {
         "name": "roomCount",
         "rawType": "float64",
         "type": "float"
        },
        {
         "name": "hasAttic",
         "rawType": "int64",
         "type": "integer"
        },
        {
         "name": "hasBasement",
         "rawType": "int64",
         "type": "integer"
        },
        {
         "name": "hasDiningRoom",
         "rawType": "int64",
         "type": "integer"
        },
        {
         "name": "buildingConstructionYear",
         "rawType": "float64",
         "type": "float"
        },
        {
         "name": "floorCount",
         "rawType": "float64",
         "type": "float"
        },
        {
         "name": "hasLift",
         "rawType": "int64",
         "type": "integer"
        },
        {
         "name": "hasHeatPump",
         "rawType": "int64",
         "type": "integer"
        },
        {
         "name": "hasPhotovoltaicPanels",
         "rawType": "int64",
         "type": "integer"
        },
        {
         "name": "hasThermicPanels",
         "rawType": "int64",
         "type": "integer"
        },
        {
         "name": "landSurface",
         "rawType": "float64",
         "type": "float"
        },
        {
         "name": "hasLivingRoom",
         "rawType": "int64",
         "type": "integer"
        },
        {
         "name": "hasGarden",
         "rawType": "int64",
         "type": "integer"
        },
        {
         "name": "gardenSurface",
         "rawType": "float64",
         "type": "float"
        },
        {
         "name": "parkingCountIndoor",
         "rawType": "float64",
         "type": "float"
        },
        {
         "name": "parkingCountOutdoor",
         "rawType": "float64",
         "type": "float"
        },
        {
         "name": "hasAirConditioning",
         "rawType": "int64",
         "type": "integer"
        },
        {
         "name": "hasArmoredDoor",
         "rawType": "int64",
         "type": "integer"
        },
        {
         "name": "toiletCount",
         "rawType": "float64",
         "type": "float"
        },
        {
         "name": "hasSwimmingPool",
         "rawType": "int64",
         "type": "integer"
        },
        {
         "name": "hasFireplace",
         "rawType": "int64",
         "type": "integer"
        },
        {
         "name": "hasTerrace",
         "rawType": "int64",
         "type": "integer"
        },
        {
         "name": "terraceSurface",
         "rawType": "float64",
         "type": "float"
        },
        {
         "name": "price",
         "rawType": "float64",
         "type": "float"
        },
        {
         "name": "type_APARTMENT_GROUP",
         "rawType": "int64",
         "type": "integer"
        },
        {
         "name": "type_HOUSE",
         "rawType": "int64",
         "type": "integer"
        },
        {
         "name": "type_HOUSE_GROUP",
         "rawType": "int64",
         "type": "integer"
        },
        {
         "name": "subtype_APARTMENT_BLOCK",
         "rawType": "int64",
         "type": "integer"
        },
        {
         "name": "subtype_APARTMENT_GROUP",
         "rawType": "int64",
         "type": "integer"
        },
        {
         "name": "subtype_BUNGALOW",
         "rawType": "int64",
         "type": "integer"
        },
        {
         "name": "subtype_CASTLE",
         "rawType": "int64",
         "type": "integer"
        },
        {
         "name": "subtype_CHALET",
         "rawType": "int64",
         "type": "integer"
        },
        {
         "name": "subtype_COUNTRY_COTTAGE",
         "rawType": "int64",
         "type": "integer"
        },
        {
         "name": "subtype_DUPLEX",
         "rawType": "int64",
         "type": "integer"
        },
        {
         "name": "subtype_EXCEPTIONAL_PROPERTY",
         "rawType": "int64",
         "type": "integer"
        },
        {
         "name": "subtype_FARMHOUSE",
         "rawType": "int64",
         "type": "integer"
        },
        {
         "name": "subtype_FLAT_STUDIO",
         "rawType": "int64",
         "type": "integer"
        },
        {
         "name": "subtype_GROUND_FLOOR",
         "rawType": "int64",
         "type": "integer"
        },
        {
         "name": "subtype_HOUSE",
         "rawType": "int64",
         "type": "integer"
        },
        {
         "name": "subtype_HOUSE_GROUP",
         "rawType": "int64",
         "type": "integer"
        },
        {
         "name": "subtype_KOT",
         "rawType": "int64",
         "type": "integer"
        },
        {
         "name": "subtype_LOFT",
         "rawType": "int64",
         "type": "integer"
        },
        {
         "name": "subtype_MANOR_HOUSE",
         "rawType": "int64",
         "type": "integer"
        },
        {
         "name": "subtype_MANSION",
         "rawType": "int64",
         "type": "integer"
        },
        {
         "name": "subtype_MIXED_USE_BUILDING",
         "rawType": "int64",
         "type": "integer"
        },
        {
         "name": "subtype_OTHER_PROPERTY",
         "rawType": "int64",
         "type": "integer"
        },
        {
         "name": "subtype_PAVILION",
         "rawType": "int64",
         "type": "integer"
        },
        {
         "name": "subtype_PENTHOUSE",
         "rawType": "int64",
         "type": "integer"
        },
        {
         "name": "subtype_SERVICE_FLAT",
         "rawType": "int64",
         "type": "integer"
        },
        {
         "name": "subtype_TOWN_HOUSE",
         "rawType": "int64",
         "type": "integer"
        },
        {
         "name": "subtype_TRIPLEX",
         "rawType": "int64",
         "type": "integer"
        },
        {
         "name": "subtype_VILLA",
         "rawType": "int64",
         "type": "integer"
        },
        {
         "name": "province_Brussels",
         "rawType": "int64",
         "type": "integer"
        },
        {
         "name": "province_East Flanders",
         "rawType": "int64",
         "type": "integer"
        },
        {
         "name": "province_Flemish Brabant",
         "rawType": "int64",
         "type": "integer"
        },
        {
         "name": "province_Hainaut",
         "rawType": "int64",
         "type": "integer"
        },
        {
         "name": "province_Limburg",
         "rawType": "int64",
         "type": "integer"
        },
        {
         "name": "province_Liège",
         "rawType": "int64",
         "type": "integer"
        },
        {
         "name": "province_Luxembourg",
         "rawType": "int64",
         "type": "integer"
        },
        {
         "name": "province_Namur",
         "rawType": "int64",
         "type": "integer"
        },
        {
         "name": "province_Walloon Brabant",
         "rawType": "int64",
         "type": "integer"
        },
        {
         "name": "province_West Flanders",
         "rawType": "int64",
         "type": "integer"
        },
        {
         "name": "buildingCondition_GOOD",
         "rawType": "int64",
         "type": "integer"
        },
        {
         "name": "buildingCondition_JUST_RENOVATED",
         "rawType": "int64",
         "type": "integer"
        },
        {
         "name": "buildingCondition_TO_BE_DONE_UP",
         "rawType": "int64",
         "type": "integer"
        },
        {
         "name": "buildingCondition_TO_RENOVATE",
         "rawType": "int64",
         "type": "integer"
        },
        {
         "name": "buildingCondition_TO_RESTORE",
         "rawType": "int64",
         "type": "integer"
        },
        {
         "name": "buildingCondition_unknown",
         "rawType": "int64",
         "type": "integer"
        },
        {
         "name": "heatingType_ELECTRIC",
         "rawType": "int64",
         "type": "integer"
        },
        {
         "name": "heatingType_FUELOIL",
         "rawType": "int64",
         "type": "integer"
        },
        {
         "name": "heatingType_GAS",
         "rawType": "int64",
         "type": "integer"
        },
        {
         "name": "heatingType_PELLET",
         "rawType": "int64",
         "type": "integer"
        },
        {
         "name": "heatingType_SOLAR",
         "rawType": "int64",
         "type": "integer"
        },
        {
         "name": "heatingType_WOOD",
         "rawType": "int64",
         "type": "integer"
        },
        {
         "name": "heatingType_unknown",
         "rawType": "int64",
         "type": "integer"
        },
        {
         "name": "kitchenType_INSTALLED",
         "rawType": "int64",
         "type": "integer"
        },
        {
         "name": "kitchenType_NOT_INSTALLED",
         "rawType": "int64",
         "type": "integer"
        },
        {
         "name": "kitchenType_SEMI_EQUIPPED",
         "rawType": "int64",
         "type": "integer"
        },
        {
         "name": "kitchenType_USA_HYPER_EQUIPPED",
         "rawType": "int64",
         "type": "integer"
        },
        {
         "name": "kitchenType_USA_INSTALLED",
         "rawType": "int64",
         "type": "integer"
        },
        {
         "name": "kitchenType_USA_SEMI_EQUIPPED",
         "rawType": "int64",
         "type": "integer"
        },
        {
         "name": "kitchenType_USA_UNINSTALLED",
         "rawType": "int64",
         "type": "integer"
        },
        {
         "name": "kitchenType_unknown",
         "rawType": "int64",
         "type": "integer"
        },
        {
         "name": "floodZoneType_CIRCUMSCRIBED_WATERSIDE_ZONE",
         "rawType": "int64",
         "type": "integer"
        },
        {
         "name": "floodZoneType_NON_FLOOD_ZONE",
         "rawType": "int64",
         "type": "integer"
        },
        {
         "name": "floodZoneType_POSSIBLE_FLOOD_ZONE",
         "rawType": "int64",
         "type": "integer"
        },
        {
         "name": "floodZoneType_POSSIBLE_N_CIRCUMSCRIBED_FLOOD_ZONE",
         "rawType": "int64",
         "type": "integer"
        },
        {
         "name": "floodZoneType_POSSIBLE_N_CIRCUMSCRIBED_WATERSIDE_ZONE",
         "rawType": "int64",
         "type": "integer"
        },
        {
         "name": "floodZoneType_RECOGNIZED_FLOOD_ZONE",
         "rawType": "int64",
         "type": "integer"
        },
        {
         "name": "floodZoneType_RECOGNIZED_N_CIRCUMSCRIBED_FLOOD_ZONE",
         "rawType": "int64",
         "type": "integer"
        },
        {
         "name": "floodZoneType_RECOGNIZED_N_CIRCUMSCRIBED_WATERSIDE_FLOOD_ZONE",
         "rawType": "int64",
         "type": "integer"
        },
        {
         "name": "floodZoneType_unknown",
         "rawType": "int64",
         "type": "integer"
        },
        {
         "name": "epcScore_A+",
         "rawType": "int64",
         "type": "integer"
        },
        {
         "name": "epcScore_A++",
         "rawType": "int64",
         "type": "integer"
        },
        {
         "name": "epcScore_B",
         "rawType": "int64",
         "type": "integer"
        },
        {
         "name": "epcScore_C",
         "rawType": "int64",
         "type": "integer"
        },
        {
         "name": "epcScore_C_A",
         "rawType": "int64",
         "type": "integer"
        },
        {
         "name": "epcScore_C_B",
         "rawType": "int64",
         "type": "integer"
        },
        {
         "name": "epcScore_D",
         "rawType": "int64",
         "type": "integer"
        },
        {
         "name": "epcScore_D_C",
         "rawType": "int64",
         "type": "integer"
        },
        {
         "name": "epcScore_E",
         "rawType": "int64",
         "type": "integer"
        },
        {
         "name": "epcScore_E_C",
         "rawType": "int64",
         "type": "integer"
        },
        {
         "name": "epcScore_E_D",
         "rawType": "int64",
         "type": "integer"
        },
        {
         "name": "epcScore_F",
         "rawType": "int64",
         "type": "integer"
        },
        {
         "name": "epcScore_F_C",
         "rawType": "int64",
         "type": "integer"
        },
        {
         "name": "epcScore_F_D",
         "rawType": "int64",
         "type": "integer"
        },
        {
         "name": "epcScore_G",
         "rawType": "int64",
         "type": "integer"
        },
        {
         "name": "epcScore_G_C",
         "rawType": "int64",
         "type": "integer"
        },
        {
         "name": "epcScore_G_E",
         "rawType": "int64",
         "type": "integer"
        },
        {
         "name": "epcScore_G_F",
         "rawType": "int64",
         "type": "integer"
        },
        {
         "name": "epcScore_X",
         "rawType": "int64",
         "type": "integer"
        },
        {
         "name": "epcScore_unknown",
         "rawType": "int64",
         "type": "integer"
        },
        {
         "name": "gardenOrientation_NORTH",
         "rawType": "int64",
         "type": "integer"
        },
        {
         "name": "gardenOrientation_NORTH_EAST",
         "rawType": "int64",
         "type": "integer"
        },
        {
         "name": "gardenOrientation_NORTH_WEST",
         "rawType": "int64",
         "type": "integer"
        },
        {
         "name": "gardenOrientation_SOUTH",
         "rawType": "int64",
         "type": "integer"
        },
        {
         "name": "gardenOrientation_SOUTH_EAST",
         "rawType": "int64",
         "type": "integer"
        },
        {
         "name": "gardenOrientation_SOUTH_WEST",
         "rawType": "int64",
         "type": "integer"
        },
        {
         "name": "gardenOrientation_WEST",
         "rawType": "int64",
         "type": "integer"
        },
        {
         "name": "gardenOrientation_unknown",
         "rawType": "int64",
         "type": "integer"
        },
        {
         "name": "terraceOrientation_NORTH",
         "rawType": "int64",
         "type": "integer"
        },
        {
         "name": "terraceOrientation_NORTH_EAST",
         "rawType": "int64",
         "type": "integer"
        },
        {
         "name": "terraceOrientation_NORTH_WEST",
         "rawType": "int64",
         "type": "integer"
        },
        {
         "name": "terraceOrientation_SOUTH",
         "rawType": "int64",
         "type": "integer"
        },
        {
         "name": "terraceOrientation_SOUTH_EAST",
         "rawType": "int64",
         "type": "integer"
        },
        {
         "name": "terraceOrientation_SOUTH_WEST",
         "rawType": "int64",
         "type": "integer"
        },
        {
         "name": "terraceOrientation_WEST",
         "rawType": "int64",
         "type": "integer"
        },
        {
         "name": "terraceOrientation_unknown",
         "rawType": "int64",
         "type": "integer"
        },
        {
         "name": "roomCount_missing",
         "rawType": "int64",
         "type": "integer"
        }
       ],
       "conversionMethod": "pd.DataFrame",
       "ref": "4263cbc4-69d4-47ad-a6cf-de884910bb34",
       "rows": [
        [
         "0",
         "2.0",
         "1.0",
         "1040",
         "100.0",
         "-1.0",
         "0",
         "1",
         "0",
         "2004.0",
         "7.0",
         "1",
         "0",
         "0",
         "0",
         "-1.0",
         "1",
         "0",
         "-1.0",
         "1.0",
         "-1.0",
         "0",
         "0",
         "1.0",
         "0",
         "0",
         "1",
         "7.0",
         "399000.0",
         "0",
         "0",
         "0",
         "0",
         "0",
         "0",
         "0",
         "0",
         "0",
         "0",
         "0",
         "0",
         "0",
         "0",
         "0",
         "0",
         "0",
         "0",
         "0",
         "0",
         "0",
         "0",
         "0",
         "0",
         "0",
         "0",
         "0",
         "0",
         "1",
         "0",
         "0",
         "0",
         "0",
         "0",
         "0",
         "0",
         "0",
         "0",
         "1",
         "0",
         "0",
         "0",
         "0",
         "0",
         "0",
         "0",
         "1",
         "0",
         "0",
         "0",
         "0",
         "0",
         "0",
         "1",
         "0",
         "0",
         "0",
         "0",
         "0",
         "0",
         "1",
         "0",
         "0",
         "0",
         "0",
         "0",
         "0",
         "0",
         "0",
         "0",
         "0",
         "1",
         "0",
         "0",
         "0",
         "0",
         "0",
         "0",
         "0",
         "0",
         "0",
         "0",
         "0",
         "0",
         "0",
         "0",
         "0",
         "0",
         "0",
         "0",
         "0",
         "0",
         "0",
         "0",
         "0",
         "1",
         "0",
         "0",
         "0",
         "0",
         "0",
         "0",
         "0",
         "1",
         "1"
        ],
        [
         "1",
         "4.0",
         "2.0",
         "1040",
         "270.0",
         "12.0",
         "1",
         "1",
         "1",
         "1910.0",
         "3.0",
         "0",
         "0",
         "0",
         "0",
         "209.0",
         "1",
         "1",
         "100.0",
         "-1.0",
         "-1.0",
         "0",
         "0",
         "3.0",
         "0",
         "0",
         "1",
         "1.0",
         "895000.0",
         "0",
         "1",
         "0",
         "0",
         "0",
         "0",
         "0",
         "0",
         "0",
         "0",
         "0",
         "0",
         "0",
         "0",
         "1",
         "0",
         "0",
         "0",
         "0",
         "0",
         "0",
         "0",
         "0",
         "0",
         "0",
         "0",
         "0",
         "0",
         "1",
         "0",
         "0",
         "0",
         "0",
         "0",
         "0",
         "0",
         "0",
         "0",
         "0",
         "0",
         "1",
         "0",
         "0",
         "0",
         "0",
         "1",
         "0",
         "0",
         "0",
         "0",
         "0",
         "1",
         "0",
         "0",
         "0",
         "0",
         "0",
         "0",
         "0",
         "0",
         "1",
         "0",
         "0",
         "0",
         "0",
         "0",
         "0",
         "0",
         "0",
         "0",
         "0",
         "0",
         "0",
         "0",
         "0",
         "0",
         "1",
         "0",
         "0",
         "0",
         "0",
         "0",
         "0",
         "0",
         "0",
         "0",
         "0",
         "0",
         "0",
         "0",
         "1",
         "0",
         "0",
         "0",
         "0",
         "0",
         "0",
         "0",
         "0",
         "0",
         "0",
         "0",
         "0",
         "1",
         "0"
        ],
        [
         "2",
         "2.0",
         "1.0",
         "1040",
         "87.0",
         "-1.0",
         "0",
         "0",
         "0",
         "1970.0",
         "7.0",
         "1",
         "0",
         "0",
         "0",
         "-1.0",
         "1",
         "0",
         "-1.0",
         "-1.0",
         "-1.0",
         "0",
         "0",
         "1.0",
         "0",
         "0",
         "1",
         "2.0",
         "465000.0",
         "0",
         "0",
         "0",
         "0",
         "0",
         "0",
         "0",
         "0",
         "0",
         "0",
         "0",
         "0",
         "0",
         "0",
         "0",
         "0",
         "0",
         "0",
         "0",
         "0",
         "0",
         "0",
         "0",
         "0",
         "0",
         "0",
         "0",
         "0",
         "1",
         "0",
         "0",
         "0",
         "0",
         "0",
         "0",
         "0",
         "0",
         "0",
         "0",
         "0",
         "0",
         "0",
         "0",
         "0",
         "0",
         "1",
         "0",
         "0",
         "0",
         "0",
         "0",
         "0",
         "0",
         "0",
         "0",
         "0",
         "0",
         "0",
         "0",
         "0",
         "0",
         "0",
         "0",
         "0",
         "0",
         "0",
         "0",
         "1",
         "0",
         "0",
         "0",
         "0",
         "0",
         "0",
         "0",
         "0",
         "0",
         "0",
         "0",
         "1",
         "0",
         "0",
         "0",
         "0",
         "0",
         "0",
         "0",
         "0",
         "0",
         "0",
         "0",
         "0",
         "0",
         "0",
         "0",
         "1",
         "0",
         "0",
         "0",
         "0",
         "0",
         "0",
         "0",
         "1",
         "1"
        ],
        [
         "3",
         "2.0",
         "2.0",
         "1040",
         "104.0",
         "-1.0",
         "0",
         "0",
         "0",
         "2018.0",
         "21.0",
         "1",
         "0",
         "0",
         "0",
         "-1.0",
         "1",
         "0",
         "-1.0",
         "-1.0",
         "-1.0",
         "0",
         "1",
         "2.0",
         "0",
         "0",
         "1",
         "3.0",
         "590000.0",
         "0",
         "0",
         "0",
         "0",
         "0",
         "0",
         "0",
         "0",
         "0",
         "0",
         "0",
         "0",
         "0",
         "0",
         "0",
         "0",
         "0",
         "0",
         "0",
         "0",
         "0",
         "0",
         "0",
         "0",
         "0",
         "0",
         "0",
         "0",
         "1",
         "0",
         "0",
         "0",
         "0",
         "0",
         "0",
         "0",
         "0",
         "0",
         "0",
         "0",
         "0",
         "0",
         "0",
         "0",
         "0",
         "0",
         "1",
         "0",
         "0",
         "0",
         "0",
         "0",
         "0",
         "0",
         "0",
         "0",
         "0",
         "0",
         "0",
         "0",
         "0",
         "0",
         "0",
         "0",
         "1",
         "0",
         "0",
         "0",
         "0",
         "0",
         "1",
         "0",
         "0",
         "0",
         "0",
         "0",
         "0",
         "0",
         "0",
         "0",
         "0",
         "0",
         "0",
         "0",
         "0",
         "0",
         "0",
         "0",
         "0",
         "0",
         "0",
         "0",
         "0",
         "0",
         "0",
         "1",
         "0",
         "0",
         "0",
         "0",
         "0",
         "0",
         "0",
         "1",
         "1"
        ],
        [
         "4",
         "1.0",
         "1.0",
         "1040",
         "71.0",
         "-1.0",
         "0",
         "0",
         "0",
         "1906.0",
         "3.0",
         "0",
         "0",
         "0",
         "0",
         "-1.0",
         "0",
         "0",
         "-1.0",
         "-1.0",
         "-1.0",
         "0",
         "0",
         "1.0",
         "0",
         "0",
         "0",
         "-1.0",
         "289000.0",
         "0",
         "0",
         "0",
         "0",
         "0",
         "0",
         "0",
         "0",
         "0",
         "0",
         "0",
         "0",
         "1",
         "0",
         "0",
         "0",
         "0",
         "0",
         "0",
         "0",
         "0",
         "0",
         "0",
         "0",
         "0",
         "0",
         "0",
         "0",
         "1",
         "0",
         "0",
         "0",
         "0",
         "0",
         "0",
         "0",
         "0",
         "0",
         "0",
         "0",
         "0",
         "0",
         "0",
         "0",
         "0",
         "0",
         "1",
         "0",
         "0",
         "0",
         "0",
         "1",
         "0",
         "0",
         "0",
         "0",
         "0",
         "0",
         "0",
         "0",
         "1",
         "0",
         "0",
         "0",
         "0",
         "0",
         "0",
         "0",
         "0",
         "0",
         "0",
         "0",
         "0",
         "0",
         "0",
         "0",
         "1",
         "0",
         "0",
         "0",
         "0",
         "0",
         "0",
         "0",
         "0",
         "0",
         "0",
         "0",
         "0",
         "0",
         "0",
         "0",
         "0",
         "0",
         "0",
         "1",
         "0",
         "0",
         "0",
         "0",
         "0",
         "0",
         "0",
         "1",
         "1"
        ]
       ],
       "shape": {
        "columns": 133,
        "rows": 5
       }
      },
      "text/html": [
       "<div>\n",
       "<style scoped>\n",
       "    .dataframe tbody tr th:only-of-type {\n",
       "        vertical-align: middle;\n",
       "    }\n",
       "\n",
       "    .dataframe tbody tr th {\n",
       "        vertical-align: top;\n",
       "    }\n",
       "\n",
       "    .dataframe thead th {\n",
       "        text-align: right;\n",
       "    }\n",
       "</style>\n",
       "<table border=\"1\" class=\"dataframe\">\n",
       "  <thead>\n",
       "    <tr style=\"text-align: right;\">\n",
       "      <th></th>\n",
       "      <th>bedroomCount</th>\n",
       "      <th>bathroomCount</th>\n",
       "      <th>postCode</th>\n",
       "      <th>habitableSurface</th>\n",
       "      <th>roomCount</th>\n",
       "      <th>hasAttic</th>\n",
       "      <th>hasBasement</th>\n",
       "      <th>hasDiningRoom</th>\n",
       "      <th>buildingConstructionYear</th>\n",
       "      <th>floorCount</th>\n",
       "      <th>...</th>\n",
       "      <th>gardenOrientation_unknown</th>\n",
       "      <th>terraceOrientation_NORTH</th>\n",
       "      <th>terraceOrientation_NORTH_EAST</th>\n",
       "      <th>terraceOrientation_NORTH_WEST</th>\n",
       "      <th>terraceOrientation_SOUTH</th>\n",
       "      <th>terraceOrientation_SOUTH_EAST</th>\n",
       "      <th>terraceOrientation_SOUTH_WEST</th>\n",
       "      <th>terraceOrientation_WEST</th>\n",
       "      <th>terraceOrientation_unknown</th>\n",
       "      <th>roomCount_missing</th>\n",
       "    </tr>\n",
       "  </thead>\n",
       "  <tbody>\n",
       "    <tr>\n",
       "      <th>0</th>\n",
       "      <td>2.0</td>\n",
       "      <td>1.0</td>\n",
       "      <td>1040</td>\n",
       "      <td>100.0</td>\n",
       "      <td>-1.0</td>\n",
       "      <td>0</td>\n",
       "      <td>1</td>\n",
       "      <td>0</td>\n",
       "      <td>2004.0</td>\n",
       "      <td>7.0</td>\n",
       "      <td>...</td>\n",
       "      <td>1</td>\n",
       "      <td>0</td>\n",
       "      <td>0</td>\n",
       "      <td>0</td>\n",
       "      <td>0</td>\n",
       "      <td>0</td>\n",
       "      <td>0</td>\n",
       "      <td>0</td>\n",
       "      <td>1</td>\n",
       "      <td>1</td>\n",
       "    </tr>\n",
       "    <tr>\n",
       "      <th>1</th>\n",
       "      <td>4.0</td>\n",
       "      <td>2.0</td>\n",
       "      <td>1040</td>\n",
       "      <td>270.0</td>\n",
       "      <td>12.0</td>\n",
       "      <td>1</td>\n",
       "      <td>1</td>\n",
       "      <td>1</td>\n",
       "      <td>1910.0</td>\n",
       "      <td>3.0</td>\n",
       "      <td>...</td>\n",
       "      <td>0</td>\n",
       "      <td>0</td>\n",
       "      <td>0</td>\n",
       "      <td>0</td>\n",
       "      <td>0</td>\n",
       "      <td>0</td>\n",
       "      <td>0</td>\n",
       "      <td>0</td>\n",
       "      <td>1</td>\n",
       "      <td>0</td>\n",
       "    </tr>\n",
       "    <tr>\n",
       "      <th>2</th>\n",
       "      <td>2.0</td>\n",
       "      <td>1.0</td>\n",
       "      <td>1040</td>\n",
       "      <td>87.0</td>\n",
       "      <td>-1.0</td>\n",
       "      <td>0</td>\n",
       "      <td>0</td>\n",
       "      <td>0</td>\n",
       "      <td>1970.0</td>\n",
       "      <td>7.0</td>\n",
       "      <td>...</td>\n",
       "      <td>1</td>\n",
       "      <td>0</td>\n",
       "      <td>0</td>\n",
       "      <td>0</td>\n",
       "      <td>0</td>\n",
       "      <td>0</td>\n",
       "      <td>0</td>\n",
       "      <td>0</td>\n",
       "      <td>1</td>\n",
       "      <td>1</td>\n",
       "    </tr>\n",
       "    <tr>\n",
       "      <th>3</th>\n",
       "      <td>2.0</td>\n",
       "      <td>2.0</td>\n",
       "      <td>1040</td>\n",
       "      <td>104.0</td>\n",
       "      <td>-1.0</td>\n",
       "      <td>0</td>\n",
       "      <td>0</td>\n",
       "      <td>0</td>\n",
       "      <td>2018.0</td>\n",
       "      <td>21.0</td>\n",
       "      <td>...</td>\n",
       "      <td>1</td>\n",
       "      <td>0</td>\n",
       "      <td>0</td>\n",
       "      <td>0</td>\n",
       "      <td>0</td>\n",
       "      <td>0</td>\n",
       "      <td>0</td>\n",
       "      <td>0</td>\n",
       "      <td>1</td>\n",
       "      <td>1</td>\n",
       "    </tr>\n",
       "    <tr>\n",
       "      <th>4</th>\n",
       "      <td>1.0</td>\n",
       "      <td>1.0</td>\n",
       "      <td>1040</td>\n",
       "      <td>71.0</td>\n",
       "      <td>-1.0</td>\n",
       "      <td>0</td>\n",
       "      <td>0</td>\n",
       "      <td>0</td>\n",
       "      <td>1906.0</td>\n",
       "      <td>3.0</td>\n",
       "      <td>...</td>\n",
       "      <td>1</td>\n",
       "      <td>0</td>\n",
       "      <td>0</td>\n",
       "      <td>0</td>\n",
       "      <td>0</td>\n",
       "      <td>0</td>\n",
       "      <td>0</td>\n",
       "      <td>0</td>\n",
       "      <td>1</td>\n",
       "      <td>1</td>\n",
       "    </tr>\n",
       "  </tbody>\n",
       "</table>\n",
       "<p>5 rows × 133 columns</p>\n",
       "</div>"
      ],
      "text/plain": [
       "   bedroomCount  bathroomCount  postCode  habitableSurface  roomCount  \\\n",
       "0           2.0            1.0      1040             100.0       -1.0   \n",
       "1           4.0            2.0      1040             270.0       12.0   \n",
       "2           2.0            1.0      1040              87.0       -1.0   \n",
       "3           2.0            2.0      1040             104.0       -1.0   \n",
       "4           1.0            1.0      1040              71.0       -1.0   \n",
       "\n",
       "   hasAttic  hasBasement  hasDiningRoom  buildingConstructionYear  floorCount  \\\n",
       "0         0            1              0                    2004.0         7.0   \n",
       "1         1            1              1                    1910.0         3.0   \n",
       "2         0            0              0                    1970.0         7.0   \n",
       "3         0            0              0                    2018.0        21.0   \n",
       "4         0            0              0                    1906.0         3.0   \n",
       "\n",
       "   ...  gardenOrientation_unknown  terraceOrientation_NORTH  \\\n",
       "0  ...                          1                         0   \n",
       "1  ...                          0                         0   \n",
       "2  ...                          1                         0   \n",
       "3  ...                          1                         0   \n",
       "4  ...                          1                         0   \n",
       "\n",
       "   terraceOrientation_NORTH_EAST  terraceOrientation_NORTH_WEST  \\\n",
       "0                              0                              0   \n",
       "1                              0                              0   \n",
       "2                              0                              0   \n",
       "3                              0                              0   \n",
       "4                              0                              0   \n",
       "\n",
       "   terraceOrientation_SOUTH  terraceOrientation_SOUTH_EAST  \\\n",
       "0                         0                              0   \n",
       "1                         0                              0   \n",
       "2                         0                              0   \n",
       "3                         0                              0   \n",
       "4                         0                              0   \n",
       "\n",
       "   terraceOrientation_SOUTH_WEST  terraceOrientation_WEST  \\\n",
       "0                              0                        0   \n",
       "1                              0                        0   \n",
       "2                              0                        0   \n",
       "3                              0                        0   \n",
       "4                              0                        0   \n",
       "\n",
       "   terraceOrientation_unknown  roomCount_missing  \n",
       "0                           1                  1  \n",
       "1                           1                  0  \n",
       "2                           1                  1  \n",
       "3                           1                  1  \n",
       "4                           1                  1  \n",
       "\n",
       "[5 rows x 133 columns]"
      ]
     },
     "execution_count": 32,
     "metadata": {},
     "output_type": "execute_result"
    }
   ],
   "source": [
    "df = pd.read_csv(\"../data/cleaned_data_kangaroo.csv\")\n",
    "df.head()"
   ]
  },
  {
   "cell_type": "markdown",
   "metadata": {},
   "source": [
    "#### Create X and Y "
   ]
  },
  {
   "cell_type": "code",
   "execution_count": 33,
   "metadata": {},
   "outputs": [],
   "source": [
    "# separate explicative variables and target variable \n",
    "X = df.drop(columns='price')\n",
    "Y = df['price']"
   ]
  },
  {
   "cell_type": "markdown",
   "metadata": {},
   "source": [
    "#### Divide Dataframe in training and testing parts"
   ]
  },
  {
   "cell_type": "code",
   "execution_count": 34,
   "metadata": {},
   "outputs": [],
   "source": [
    "# 80% training and 20% testing data\n",
    "X_train, X_test, Y_train, Y_test = train_test_split(X, Y, train_size=0.8, test_size=0.2, random_state=0)"
   ]
  },
  {
   "cell_type": "markdown",
   "metadata": {},
   "source": [
    "#### Linear regression "
   ]
  },
  {
   "cell_type": "code",
   "execution_count": 35,
   "metadata": {},
   "outputs": [
    {
     "name": "stdout",
     "output_type": "stream",
     "text": [
      "Mean absolute error: 88099.5211918535\n",
      "Mean absolute percentage error: 0.3033100378186818\n",
      "R2 score : -3.0434016736534977\n"
     ]
    }
   ],
   "source": [
    "# Import\n",
    "model_LR = LinearRegression()\n",
    "\n",
    "# Train the model\n",
    "model_LR.fit(X_train, Y_train)\n",
    "\n",
    "#Prediction \n",
    "Y_pred = model_LR.predict(X_test)\n",
    "\n",
    "# Evaluation \n",
    "print(f\"Mean absolute error: {mean_absolute_error(Y_test, Y_pred)}\")\n",
    "print (f\"Mean absolute percentage error: {mean_absolute_percentage_error(Y_test, Y_pred)}\")\n",
    "print (f\"R2 score : {r2_score(Y_test, Y_pred)}\")"
   ]
  },
  {
   "cell_type": "markdown",
   "metadata": {},
   "source": [
    "#### Random Forest Regressor "
   ]
  },
  {
   "cell_type": "code",
   "execution_count": 36,
   "metadata": {},
   "outputs": [
    {
     "name": "stdout",
     "output_type": "stream",
     "text": [
      "Mean absolute error: 60551.93042535789\n",
      "Mean absolute percentage error: 0.2004806228143579\n",
      "R2 score : 0.7561244405041188\n"
     ]
    }
   ],
   "source": [
    "# Import \n",
    "model_RF = RandomForestRegressor(n_estimators=100, random_state=42)\n",
    "\n",
    "# Train the model \n",
    "model_RF.fit(X_train, Y_train)\n",
    "\n",
    "# Prediction \n",
    "Y_pred_RF = model_RF.predict(X_test)\n",
    "\n",
    "# Evaluation \n",
    "print(f\"Mean absolute error: {mean_absolute_error(Y_test, Y_pred_RF)}\")\n",
    "print (f\"Mean absolute percentage error: {mean_absolute_percentage_error(Y_test, Y_pred_RF)}\")\n",
    "print (f\"R2 score : {r2_score(Y_test, Y_pred_RF)}\")\n",
    "\n",
    "\n",
    "\n",
    "\n"
   ]
  },
  {
   "cell_type": "markdown",
   "metadata": {},
   "source": [
    "#### Gradient Boosting Regressor"
   ]
  },
  {
   "cell_type": "code",
   "execution_count": 37,
   "metadata": {},
   "outputs": [
    {
     "name": "stdout",
     "output_type": "stream",
     "text": [
      "Mean absolute error: 75337.59747226216\n",
      "Mean absolute percentage error: 0.25533312307597694\n",
      "R2 score : 0.663099270957954\n"
     ]
    }
   ],
   "source": [
    "# Import \n",
    "model_GBR = GradientBoostingRegressor(n_estimators=100, learning_rate=0.1, random_state=42)\n",
    "\n",
    "# Train the model \n",
    "model_GBR.fit(X_train, Y_train)\n",
    "\n",
    "# Prediction \n",
    "Y_pred_GBR = model_GBR.predict(X_test)\n",
    "\n",
    "# Evaluation \n",
    "print(f\"Mean absolute error: {mean_absolute_error(Y_test, Y_pred_GBR)}\")\n",
    "print (f\"Mean absolute percentage error: {mean_absolute_percentage_error(Y_test, Y_pred_GBR)}\")\n",
    "print (f\"R2 score : {r2_score(Y_test, Y_pred_GBR)}\")\n",
    "\n"
   ]
  },
  {
   "cell_type": "markdown",
   "metadata": {},
   "source": [
    "#### XGBoost"
   ]
  },
  {
   "cell_type": "code",
   "execution_count": 38,
   "metadata": {},
   "outputs": [
    {
     "name": "stdout",
     "output_type": "stream",
     "text": [
      "Mean absolute error: 64715.09218973167\n",
      "Mean absolute percentage error: 0.21447957277675886\n",
      "R2 score : 0.7429726864692979\n"
     ]
    }
   ],
   "source": [
    "# Import \n",
    "model_XGB = XGBRegressor(n_estimators=100, learning_rate=0.1, random_state=42)\n",
    "\n",
    "# Train the model \n",
    "model_XGB.fit(X_train, Y_train)\n",
    "\n",
    "# Prediction \n",
    "Y_pred_XGB = model_XGB.predict(X_test)\n",
    "\n",
    "# Evaluation \n",
    "print(f\"Mean absolute error: {mean_absolute_error(Y_test, Y_pred_XGB)}\")\n",
    "print (f\"Mean absolute percentage error: {mean_absolute_percentage_error(Y_test, Y_pred_XGB)}\")\n",
    "print (f\"R2 score : {r2_score(Y_test, Y_pred_XGB)}\")\n"
   ]
  },
  {
   "cell_type": "code",
   "execution_count": 39,
   "metadata": {},
   "outputs": [],
   "source": [
    "# Attention : ne pas faire la mean sur l'ensemble du df avant de le split sinon ça aide beaucoup trop le modele \n",
    "# D'abord split puis faire le mean \n",
    "# check pycaret library \n"
   ]
  }
 ],
 "metadata": {
  "kernelspec": {
   "display_name": "Python 3",
   "language": "python",
   "name": "python3"
  },
  "language_info": {
   "codemirror_mode": {
    "name": "ipython",
    "version": 3
   },
   "file_extension": ".py",
   "mimetype": "text/x-python",
   "name": "python",
   "nbconvert_exporter": "python",
   "pygments_lexer": "ipython3",
   "version": "3.12.8"
  }
 },
 "nbformat": 4,
 "nbformat_minor": 2
}
