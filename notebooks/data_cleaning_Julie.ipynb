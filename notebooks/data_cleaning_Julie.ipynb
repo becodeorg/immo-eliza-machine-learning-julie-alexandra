{
 "cells": [
  {
   "cell_type": "markdown",
   "metadata": {},
   "source": [
    "## Packages"
   ]
  },
  {
   "cell_type": "code",
   "execution_count": 1,
   "metadata": {},
   "outputs": [
    {
     "data": {
      "text/html": [
       "<div>\n",
       "<style scoped>\n",
       "    .dataframe tbody tr th:only-of-type {\n",
       "        vertical-align: middle;\n",
       "    }\n",
       "\n",
       "    .dataframe tbody tr th {\n",
       "        vertical-align: top;\n",
       "    }\n",
       "\n",
       "    .dataframe thead th {\n",
       "        text-align: right;\n",
       "    }\n",
       "</style>\n",
       "<table border=\"1\" class=\"dataframe\">\n",
       "  <thead>\n",
       "    <tr style=\"text-align: right;\">\n",
       "      <th></th>\n",
       "      <th>Unnamed: 0</th>\n",
       "      <th>id</th>\n",
       "      <th>url</th>\n",
       "      <th>type</th>\n",
       "      <th>subtype</th>\n",
       "      <th>bedroomCount</th>\n",
       "      <th>bathroomCount</th>\n",
       "      <th>province</th>\n",
       "      <th>locality</th>\n",
       "      <th>postCode</th>\n",
       "      <th>...</th>\n",
       "      <th>hasOffice</th>\n",
       "      <th>toiletCount</th>\n",
       "      <th>hasSwimmingPool</th>\n",
       "      <th>hasFireplace</th>\n",
       "      <th>hasTerrace</th>\n",
       "      <th>terraceSurface</th>\n",
       "      <th>terraceOrientation</th>\n",
       "      <th>accessibleDisabledPeople</th>\n",
       "      <th>epcScore</th>\n",
       "      <th>price</th>\n",
       "    </tr>\n",
       "  </thead>\n",
       "  <tbody>\n",
       "    <tr>\n",
       "      <th>0</th>\n",
       "      <td>0</td>\n",
       "      <td>20661494.0</td>\n",
       "      <td>https://www.immoweb.be/en/classified/apartment...</td>\n",
       "      <td>APARTMENT</td>\n",
       "      <td>APARTMENT</td>\n",
       "      <td>2.0</td>\n",
       "      <td>1.0</td>\n",
       "      <td>Brussels</td>\n",
       "      <td>Etterbeek</td>\n",
       "      <td>1040</td>\n",
       "      <td>...</td>\n",
       "      <td>NaN</td>\n",
       "      <td>1.0</td>\n",
       "      <td>NaN</td>\n",
       "      <td>NaN</td>\n",
       "      <td>True</td>\n",
       "      <td>7.0</td>\n",
       "      <td>NaN</td>\n",
       "      <td>NaN</td>\n",
       "      <td>C</td>\n",
       "      <td>399000.0</td>\n",
       "    </tr>\n",
       "    <tr>\n",
       "      <th>1</th>\n",
       "      <td>1</td>\n",
       "      <td>20647642.0</td>\n",
       "      <td>https://www.immoweb.be/en/classified/house/for...</td>\n",
       "      <td>HOUSE</td>\n",
       "      <td>HOUSE</td>\n",
       "      <td>4.0</td>\n",
       "      <td>2.0</td>\n",
       "      <td>Brussels</td>\n",
       "      <td>Etterbeek</td>\n",
       "      <td>1040</td>\n",
       "      <td>...</td>\n",
       "      <td>True</td>\n",
       "      <td>3.0</td>\n",
       "      <td>NaN</td>\n",
       "      <td>NaN</td>\n",
       "      <td>True</td>\n",
       "      <td>1.0</td>\n",
       "      <td>NaN</td>\n",
       "      <td>NaN</td>\n",
       "      <td>E</td>\n",
       "      <td>895000.0</td>\n",
       "    </tr>\n",
       "    <tr>\n",
       "      <th>2</th>\n",
       "      <td>2</td>\n",
       "      <td>20644816.0</td>\n",
       "      <td>https://www.immoweb.be/en/classified/apartment...</td>\n",
       "      <td>APARTMENT</td>\n",
       "      <td>APARTMENT</td>\n",
       "      <td>2.0</td>\n",
       "      <td>1.0</td>\n",
       "      <td>Brussels</td>\n",
       "      <td>Etterbeek</td>\n",
       "      <td>1040</td>\n",
       "      <td>...</td>\n",
       "      <td>NaN</td>\n",
       "      <td>1.0</td>\n",
       "      <td>NaN</td>\n",
       "      <td>NaN</td>\n",
       "      <td>True</td>\n",
       "      <td>2.0</td>\n",
       "      <td>NaN</td>\n",
       "      <td>NaN</td>\n",
       "      <td>F</td>\n",
       "      <td>465000.0</td>\n",
       "    </tr>\n",
       "    <tr>\n",
       "      <th>3</th>\n",
       "      <td>3</td>\n",
       "      <td>20659813.0</td>\n",
       "      <td>https://www.immoweb.be/en/classified/apartment...</td>\n",
       "      <td>APARTMENT</td>\n",
       "      <td>APARTMENT</td>\n",
       "      <td>2.0</td>\n",
       "      <td>2.0</td>\n",
       "      <td>Brussels</td>\n",
       "      <td>Bruxelles</td>\n",
       "      <td>1040</td>\n",
       "      <td>...</td>\n",
       "      <td>NaN</td>\n",
       "      <td>2.0</td>\n",
       "      <td>NaN</td>\n",
       "      <td>NaN</td>\n",
       "      <td>True</td>\n",
       "      <td>3.0</td>\n",
       "      <td>NaN</td>\n",
       "      <td>NaN</td>\n",
       "      <td>B</td>\n",
       "      <td>590000.0</td>\n",
       "    </tr>\n",
       "    <tr>\n",
       "      <th>4</th>\n",
       "      <td>4</td>\n",
       "      <td>20633249.0</td>\n",
       "      <td>https://www.immoweb.be/en/classified/flat-stud...</td>\n",
       "      <td>APARTMENT</td>\n",
       "      <td>FLAT_STUDIO</td>\n",
       "      <td>1.0</td>\n",
       "      <td>1.0</td>\n",
       "      <td>Brussels</td>\n",
       "      <td>Etterbeek</td>\n",
       "      <td>1040</td>\n",
       "      <td>...</td>\n",
       "      <td>NaN</td>\n",
       "      <td>1.0</td>\n",
       "      <td>NaN</td>\n",
       "      <td>NaN</td>\n",
       "      <td>NaN</td>\n",
       "      <td>NaN</td>\n",
       "      <td>NaN</td>\n",
       "      <td>NaN</td>\n",
       "      <td>E</td>\n",
       "      <td>289000.0</td>\n",
       "    </tr>\n",
       "  </tbody>\n",
       "</table>\n",
       "<p>5 rows × 53 columns</p>\n",
       "</div>"
      ],
      "text/plain": [
       "   Unnamed: 0          id                                                url  \\\n",
       "0           0  20661494.0  https://www.immoweb.be/en/classified/apartment...   \n",
       "1           1  20647642.0  https://www.immoweb.be/en/classified/house/for...   \n",
       "2           2  20644816.0  https://www.immoweb.be/en/classified/apartment...   \n",
       "3           3  20659813.0  https://www.immoweb.be/en/classified/apartment...   \n",
       "4           4  20633249.0  https://www.immoweb.be/en/classified/flat-stud...   \n",
       "\n",
       "        type      subtype  bedroomCount  bathroomCount  province   locality  \\\n",
       "0  APARTMENT    APARTMENT           2.0            1.0  Brussels  Etterbeek   \n",
       "1      HOUSE        HOUSE           4.0            2.0  Brussels  Etterbeek   \n",
       "2  APARTMENT    APARTMENT           2.0            1.0  Brussels  Etterbeek   \n",
       "3  APARTMENT    APARTMENT           2.0            2.0  Brussels  Bruxelles   \n",
       "4  APARTMENT  FLAT_STUDIO           1.0            1.0  Brussels  Etterbeek   \n",
       "\n",
       "   postCode  ...  hasOffice  toiletCount  hasSwimmingPool hasFireplace  \\\n",
       "0      1040  ...        NaN          1.0              NaN          NaN   \n",
       "1      1040  ...       True          3.0              NaN          NaN   \n",
       "2      1040  ...        NaN          1.0              NaN          NaN   \n",
       "3      1040  ...        NaN          2.0              NaN          NaN   \n",
       "4      1040  ...        NaN          1.0              NaN          NaN   \n",
       "\n",
       "  hasTerrace terraceSurface  terraceOrientation accessibleDisabledPeople  \\\n",
       "0       True            7.0                 NaN                      NaN   \n",
       "1       True            1.0                 NaN                      NaN   \n",
       "2       True            2.0                 NaN                      NaN   \n",
       "3       True            3.0                 NaN                      NaN   \n",
       "4        NaN            NaN                 NaN                      NaN   \n",
       "\n",
       "  epcScore     price  \n",
       "0        C  399000.0  \n",
       "1        E  895000.0  \n",
       "2        F  465000.0  \n",
       "3        B  590000.0  \n",
       "4        E  289000.0  \n",
       "\n",
       "[5 rows x 53 columns]"
      ]
     },
     "execution_count": 1,
     "metadata": {},
     "output_type": "execute_result"
    }
   ],
   "source": [
    "import pandas as pd \n",
    "import numpy as np\n",
    "import matplotlib.pyplot as plt \n",
    "import seaborn as sns \n",
    "\n",
    "df = pd.read_csv(\"../data/raw_data_kangaroo.csv\")\n",
    "df.head()\n"
   ]
  },
  {
   "cell_type": "markdown",
   "metadata": {},
   "source": [
    "## Exploring the dataset "
   ]
  },
  {
   "cell_type": "code",
   "execution_count": 2,
   "metadata": {},
   "outputs": [
    {
     "data": {
      "text/plain": [
       "(80368, 53)"
      ]
     },
     "execution_count": 2,
     "metadata": {},
     "output_type": "execute_result"
    }
   ],
   "source": [
    "# Dataset dimensions\n",
    "df.shape"
   ]
  },
  {
   "cell_type": "code",
   "execution_count": 3,
   "metadata": {},
   "outputs": [
    {
     "data": {
      "text/plain": [
       "Index(['Unnamed: 0', 'id', 'url', 'type', 'subtype', 'bedroomCount',\n",
       "       'bathroomCount', 'province', 'locality', 'postCode', 'habitableSurface',\n",
       "       'roomCount', 'monthlyCost', 'hasAttic', 'hasBasement',\n",
       "       'hasDressingRoom', 'diningRoomSurface', 'hasDiningRoom',\n",
       "       'buildingCondition', 'buildingConstructionYear', 'facedeCount',\n",
       "       'floorCount', 'streetFacadeWidth', 'hasLift', 'floodZoneType',\n",
       "       'heatingType', 'hasHeatPump', 'hasPhotovoltaicPanels',\n",
       "       'hasThermicPanels', 'kitchenSurface', 'kitchenType', 'landSurface',\n",
       "       'hasLivingRoom', 'livingRoomSurface', 'hasBalcony', 'hasGarden',\n",
       "       'gardenSurface', 'gardenOrientation', 'parkingCountIndoor',\n",
       "       'parkingCountOutdoor', 'hasAirConditioning', 'hasArmoredDoor',\n",
       "       'hasVisiophone', 'hasOffice', 'toiletCount', 'hasSwimmingPool',\n",
       "       'hasFireplace', 'hasTerrace', 'terraceSurface', 'terraceOrientation',\n",
       "       'accessibleDisabledPeople', 'epcScore', 'price'],\n",
       "      dtype='object')"
      ]
     },
     "execution_count": 3,
     "metadata": {},
     "output_type": "execute_result"
    }
   ],
   "source": [
    "# Display columns \n",
    "df.columns "
   ]
  },
  {
   "cell_type": "code",
   "execution_count": 4,
   "metadata": {},
   "outputs": [
    {
     "data": {
      "text/plain": [
       "Unnamed: 0                    int64\n",
       "id                          float64\n",
       "url                          object\n",
       "type                         object\n",
       "subtype                      object\n",
       "bedroomCount                float64\n",
       "bathroomCount               float64\n",
       "province                     object\n",
       "locality                     object\n",
       "postCode                      int64\n",
       "habitableSurface            float64\n",
       "roomCount                   float64\n",
       "monthlyCost                 float64\n",
       "hasAttic                     object\n",
       "hasBasement                  object\n",
       "hasDressingRoom              object\n",
       "diningRoomSurface           float64\n",
       "hasDiningRoom                object\n",
       "buildingCondition            object\n",
       "buildingConstructionYear    float64\n",
       "facedeCount                 float64\n",
       "floorCount                  float64\n",
       "streetFacadeWidth           float64\n",
       "hasLift                      object\n",
       "floodZoneType                object\n",
       "heatingType                  object\n",
       "hasHeatPump                  object\n",
       "hasPhotovoltaicPanels        object\n",
       "hasThermicPanels             object\n",
       "kitchenSurface              float64\n",
       "kitchenType                  object\n",
       "landSurface                 float64\n",
       "hasLivingRoom                object\n",
       "livingRoomSurface           float64\n",
       "hasBalcony                  float64\n",
       "hasGarden                    object\n",
       "gardenSurface               float64\n",
       "gardenOrientation            object\n",
       "parkingCountIndoor          float64\n",
       "parkingCountOutdoor         float64\n",
       "hasAirConditioning           object\n",
       "hasArmoredDoor               object\n",
       "hasVisiophone                object\n",
       "hasOffice                    object\n",
       "toiletCount                 float64\n",
       "hasSwimmingPool              object\n",
       "hasFireplace                 object\n",
       "hasTerrace                   object\n",
       "terraceSurface              float64\n",
       "terraceOrientation           object\n",
       "accessibleDisabledPeople    float64\n",
       "epcScore                     object\n",
       "price                       float64\n",
       "dtype: object"
      ]
     },
     "execution_count": 4,
     "metadata": {},
     "output_type": "execute_result"
    }
   ],
   "source": [
    "# Data type\n",
    "df.dtypes"
   ]
  },
  {
   "cell_type": "code",
   "execution_count": 5,
   "metadata": {},
   "outputs": [
    {
     "data": {
      "text/plain": [
       "Unnamed: 0                      0\n",
       "id                              0\n",
       "url                             0\n",
       "type                            0\n",
       "subtype                         0\n",
       "bedroomCount                 6810\n",
       "bathroomCount               13696\n",
       "province                        0\n",
       "locality                        0\n",
       "postCode                        0\n",
       "habitableSurface            12585\n",
       "roomCount                   58420\n",
       "monthlyCost                 80368\n",
       "hasAttic                    67852\n",
       "hasBasement                 51053\n",
       "hasDressingRoom             77740\n",
       "diningRoomSurface           73467\n",
       "hasDiningRoom               66227\n",
       "buildingCondition           22376\n",
       "buildingConstructionYear    31262\n",
       "facedeCount                 27129\n",
       "floorCount                  42822\n",
       "streetFacadeWidth           64858\n",
       "hasLift                     61324\n",
       "floodZoneType               35902\n",
       "heatingType                 33215\n",
       "hasHeatPump                 72895\n",
       "hasPhotovoltaicPanels       72320\n",
       "hasThermicPanels            77256\n",
       "kitchenSurface              56105\n",
       "kitchenType                 38452\n",
       "landSurface                 40827\n",
       "hasLivingRoom               37492\n",
       "livingRoomSurface           51418\n",
       "hasBalcony                  80368\n",
       "hasGarden                   64410\n",
       "gardenSurface               64410\n",
       "gardenOrientation           74767\n",
       "parkingCountIndoor          52129\n",
       "parkingCountOutdoor         62042\n",
       "hasAirConditioning          79244\n",
       "hasArmoredDoor              76670\n",
       "hasVisiophone               64377\n",
       "hasOffice                   69981\n",
       "toiletCount                 25274\n",
       "hasSwimmingPool             78552\n",
       "hasFireplace                77324\n",
       "hasTerrace                  32939\n",
       "terraceSurface              51769\n",
       "terraceOrientation          69106\n",
       "accessibleDisabledPeople    80368\n",
       "epcScore                    14977\n",
       "price                        3998\n",
       "dtype: int64"
      ]
     },
     "execution_count": 5,
     "metadata": {},
     "output_type": "execute_result"
    }
   ],
   "source": [
    "# Overview missing values \n",
    "df.isnull().sum()"
   ]
  },
  {
   "cell_type": "code",
   "execution_count": 6,
   "metadata": {},
   "outputs": [
    {
     "data": {
      "application/vnd.microsoft.datawrangler.viewer.v0+json": {
       "columns": [
        {
         "name": "index",
         "rawType": "object",
         "type": "string"
        },
        {
         "name": "Unnamed: 0",
         "rawType": "float64",
         "type": "float"
        },
        {
         "name": "id",
         "rawType": "float64",
         "type": "float"
        },
        {
         "name": "bedroomCount",
         "rawType": "float64",
         "type": "float"
        },
        {
         "name": "bathroomCount",
         "rawType": "float64",
         "type": "float"
        },
        {
         "name": "postCode",
         "rawType": "float64",
         "type": "float"
        },
        {
         "name": "habitableSurface",
         "rawType": "float64",
         "type": "float"
        },
        {
         "name": "roomCount",
         "rawType": "float64",
         "type": "float"
        },
        {
         "name": "monthlyCost",
         "rawType": "float64",
         "type": "float"
        },
        {
         "name": "diningRoomSurface",
         "rawType": "float64",
         "type": "float"
        },
        {
         "name": "buildingConstructionYear",
         "rawType": "float64",
         "type": "float"
        },
        {
         "name": "facedeCount",
         "rawType": "float64",
         "type": "float"
        },
        {
         "name": "floorCount",
         "rawType": "float64",
         "type": "float"
        },
        {
         "name": "streetFacadeWidth",
         "rawType": "float64",
         "type": "float"
        },
        {
         "name": "kitchenSurface",
         "rawType": "float64",
         "type": "float"
        },
        {
         "name": "landSurface",
         "rawType": "float64",
         "type": "float"
        },
        {
         "name": "livingRoomSurface",
         "rawType": "float64",
         "type": "float"
        },
        {
         "name": "hasBalcony",
         "rawType": "float64",
         "type": "float"
        },
        {
         "name": "gardenSurface",
         "rawType": "float64",
         "type": "float"
        },
        {
         "name": "parkingCountIndoor",
         "rawType": "float64",
         "type": "float"
        },
        {
         "name": "parkingCountOutdoor",
         "rawType": "float64",
         "type": "float"
        },
        {
         "name": "toiletCount",
         "rawType": "float64",
         "type": "float"
        },
        {
         "name": "terraceSurface",
         "rawType": "float64",
         "type": "float"
        },
        {
         "name": "accessibleDisabledPeople",
         "rawType": "float64",
         "type": "float"
        },
        {
         "name": "price",
         "rawType": "float64",
         "type": "float"
        }
       ],
       "conversionMethod": "pd.DataFrame",
       "ref": "89da7bef-1ebc-42ba-a1f8-b4c11a432f0b",
       "rows": [
        [
         "count",
         "80368.0",
         "80368.0",
         "73558.0",
         "66672.0",
         "80368.0",
         "67783.0",
         "21948.0",
         "0.0",
         "6901.0",
         "49106.0",
         "53239.0",
         "37546.0",
         "15510.0",
         "24263.0",
         "39541.0",
         "28950.0",
         "0.0",
         "15958.0",
         "28239.0",
         "18326.0",
         "55094.0",
         "28599.0",
         "0.0",
         "76370.0"
        ],
        [
         "mean",
         "209681.71013338643",
         "19529221.3089787",
         "3.0088773484869082",
         "1.4271208303335734",
         "5266.587198885129",
         "178.49999262351918",
         "7.1104428649535265",
         null,
         "21.124619620344877",
         "1978.0173502219689",
         "2.8273070493435264",
         "3.973046396420391",
         "16.55417749837584",
         "15.185962164612786",
         "1289.4106370602665",
         "37.134715025906736",
         null,
         "696.3211555332748",
         "6.677750628563334",
         "8.280803230383063",
         "1.8062402439467093",
         "24.512710234623587",
         null,
         "447606.0552834883"
        ],
        [
         "std",
         "105460.84415321708",
         "2897688.0131302816",
         "1.833184845405991",
         "4.556189073764601",
         "3045.6989035732627",
         "820.8789355030849",
         "5.82408809330086",
         null,
         "43.53616658633172",
         "41.59550399874119",
         "0.9417285400093763",
         "114.39703050883068",
         "110.02717434604409",
         "109.09025124760797",
         "5657.080543621676",
         "209.68127691263433",
         null,
         "6308.71532553677",
         "430.01486983921365",
         "746.1519546854045",
         "8.41451973389438",
         "43.24464287453774",
         null,
         "511575.73919202405"
        ],
        [
         "min",
         "0.0",
         "1882546.0",
         "1.0",
         "1.0",
         "1000.0",
         "6.0",
         "1.0",
         null,
         "1.0",
         "1753.0",
         "1.0",
         "1.0",
         "1.0",
         "1.0",
         "1.0",
         "1.0",
         null,
         "1.0",
         "1.0",
         "1.0",
         "1.0",
         "1.0",
         null,
         "3141.0"
        ],
        [
         "25%",
         "181965.75",
         "20350553.25",
         "2.0",
         "1.0",
         "2330.0",
         "93.0",
         "1.0",
         null,
         "14.0",
         "1957.0",
         "2.0",
         "2.0",
         "6.0",
         "9.0",
         "218.0",
         "25.0",
         null,
         "55.0",
         "1.0",
         "1.0",
         "1.0",
         "8.0",
         null,
         "230000.0"
        ],
        [
         "50%",
         "235124.5",
         "20529847.5",
         "3.0",
         "1.0",
         "4830.0",
         "140.0",
         "6.0",
         null,
         "18.0",
         "1980.0",
         "3.0",
         "3.0",
         "8.0",
         "12.0",
         "461.0",
         "32.0",
         null,
         "171.0",
         "1.0",
         "2.0",
         "2.0",
         "15.0",
         null,
         "329900.0"
        ],
        [
         "75%",
         "257006.25",
         "20614940.75",
         "4.0",
         "2.0",
         "8420.0",
         "200.0",
         "11.0",
         null,
         "24.0",
         "2017.0",
         "4.0",
         "4.0",
         "12.0",
         "16.0",
         "963.0",
         "40.0",
         null,
         "518.0",
         "1.0",
         "3.0",
         "2.0",
         "29.0",
         null,
         "479000.0"
        ],
        [
         "max",
         "446550.0",
         "20664387.0",
         "100.0",
         "1146.0",
         "9992.0",
         "185347.0",
         "68.0",
         null,
         "2470.0",
         "2055.0",
         "86.0",
         "21963.0",
         "8700.0",
         "16202.0",
         "580608.0",
         "34418.0",
         null,
         "734674.0",
         "50000.0",
         "101010.0",
         "1958.0",
         "2921.0",
         null,
         "15000000.0"
        ]
       ],
       "shape": {
        "columns": 24,
        "rows": 8
       }
      },
      "text/html": [
       "<div>\n",
       "<style scoped>\n",
       "    .dataframe tbody tr th:only-of-type {\n",
       "        vertical-align: middle;\n",
       "    }\n",
       "\n",
       "    .dataframe tbody tr th {\n",
       "        vertical-align: top;\n",
       "    }\n",
       "\n",
       "    .dataframe thead th {\n",
       "        text-align: right;\n",
       "    }\n",
       "</style>\n",
       "<table border=\"1\" class=\"dataframe\">\n",
       "  <thead>\n",
       "    <tr style=\"text-align: right;\">\n",
       "      <th></th>\n",
       "      <th>Unnamed: 0</th>\n",
       "      <th>id</th>\n",
       "      <th>bedroomCount</th>\n",
       "      <th>bathroomCount</th>\n",
       "      <th>postCode</th>\n",
       "      <th>habitableSurface</th>\n",
       "      <th>roomCount</th>\n",
       "      <th>monthlyCost</th>\n",
       "      <th>diningRoomSurface</th>\n",
       "      <th>buildingConstructionYear</th>\n",
       "      <th>...</th>\n",
       "      <th>landSurface</th>\n",
       "      <th>livingRoomSurface</th>\n",
       "      <th>hasBalcony</th>\n",
       "      <th>gardenSurface</th>\n",
       "      <th>parkingCountIndoor</th>\n",
       "      <th>parkingCountOutdoor</th>\n",
       "      <th>toiletCount</th>\n",
       "      <th>terraceSurface</th>\n",
       "      <th>accessibleDisabledPeople</th>\n",
       "      <th>price</th>\n",
       "    </tr>\n",
       "  </thead>\n",
       "  <tbody>\n",
       "    <tr>\n",
       "      <th>count</th>\n",
       "      <td>80368.000000</td>\n",
       "      <td>8.036800e+04</td>\n",
       "      <td>73558.000000</td>\n",
       "      <td>66672.000000</td>\n",
       "      <td>80368.000000</td>\n",
       "      <td>67783.000000</td>\n",
       "      <td>21948.000000</td>\n",
       "      <td>0.0</td>\n",
       "      <td>6901.000000</td>\n",
       "      <td>49106.000000</td>\n",
       "      <td>...</td>\n",
       "      <td>39541.000000</td>\n",
       "      <td>28950.000000</td>\n",
       "      <td>0.0</td>\n",
       "      <td>15958.000000</td>\n",
       "      <td>28239.000000</td>\n",
       "      <td>18326.000000</td>\n",
       "      <td>55094.00000</td>\n",
       "      <td>28599.000000</td>\n",
       "      <td>0.0</td>\n",
       "      <td>7.637000e+04</td>\n",
       "    </tr>\n",
       "    <tr>\n",
       "      <th>mean</th>\n",
       "      <td>209681.710133</td>\n",
       "      <td>1.952922e+07</td>\n",
       "      <td>3.008877</td>\n",
       "      <td>1.427121</td>\n",
       "      <td>5266.587199</td>\n",
       "      <td>178.499993</td>\n",
       "      <td>7.110443</td>\n",
       "      <td>NaN</td>\n",
       "      <td>21.124620</td>\n",
       "      <td>1978.017350</td>\n",
       "      <td>...</td>\n",
       "      <td>1289.410637</td>\n",
       "      <td>37.134715</td>\n",
       "      <td>NaN</td>\n",
       "      <td>696.321156</td>\n",
       "      <td>6.677751</td>\n",
       "      <td>8.280803</td>\n",
       "      <td>1.80624</td>\n",
       "      <td>24.512710</td>\n",
       "      <td>NaN</td>\n",
       "      <td>4.476061e+05</td>\n",
       "    </tr>\n",
       "    <tr>\n",
       "      <th>std</th>\n",
       "      <td>105460.844153</td>\n",
       "      <td>2.897688e+06</td>\n",
       "      <td>1.833185</td>\n",
       "      <td>4.556189</td>\n",
       "      <td>3045.698904</td>\n",
       "      <td>820.878936</td>\n",
       "      <td>5.824088</td>\n",
       "      <td>NaN</td>\n",
       "      <td>43.536167</td>\n",
       "      <td>41.595504</td>\n",
       "      <td>...</td>\n",
       "      <td>5657.080544</td>\n",
       "      <td>209.681277</td>\n",
       "      <td>NaN</td>\n",
       "      <td>6308.715326</td>\n",
       "      <td>430.014870</td>\n",
       "      <td>746.151955</td>\n",
       "      <td>8.41452</td>\n",
       "      <td>43.244643</td>\n",
       "      <td>NaN</td>\n",
       "      <td>5.115757e+05</td>\n",
       "    </tr>\n",
       "    <tr>\n",
       "      <th>min</th>\n",
       "      <td>0.000000</td>\n",
       "      <td>1.882546e+06</td>\n",
       "      <td>1.000000</td>\n",
       "      <td>1.000000</td>\n",
       "      <td>1000.000000</td>\n",
       "      <td>6.000000</td>\n",
       "      <td>1.000000</td>\n",
       "      <td>NaN</td>\n",
       "      <td>1.000000</td>\n",
       "      <td>1753.000000</td>\n",
       "      <td>...</td>\n",
       "      <td>1.000000</td>\n",
       "      <td>1.000000</td>\n",
       "      <td>NaN</td>\n",
       "      <td>1.000000</td>\n",
       "      <td>1.000000</td>\n",
       "      <td>1.000000</td>\n",
       "      <td>1.00000</td>\n",
       "      <td>1.000000</td>\n",
       "      <td>NaN</td>\n",
       "      <td>3.141000e+03</td>\n",
       "    </tr>\n",
       "    <tr>\n",
       "      <th>25%</th>\n",
       "      <td>181965.750000</td>\n",
       "      <td>2.035055e+07</td>\n",
       "      <td>2.000000</td>\n",
       "      <td>1.000000</td>\n",
       "      <td>2330.000000</td>\n",
       "      <td>93.000000</td>\n",
       "      <td>1.000000</td>\n",
       "      <td>NaN</td>\n",
       "      <td>14.000000</td>\n",
       "      <td>1957.000000</td>\n",
       "      <td>...</td>\n",
       "      <td>218.000000</td>\n",
       "      <td>25.000000</td>\n",
       "      <td>NaN</td>\n",
       "      <td>55.000000</td>\n",
       "      <td>1.000000</td>\n",
       "      <td>1.000000</td>\n",
       "      <td>1.00000</td>\n",
       "      <td>8.000000</td>\n",
       "      <td>NaN</td>\n",
       "      <td>2.300000e+05</td>\n",
       "    </tr>\n",
       "    <tr>\n",
       "      <th>50%</th>\n",
       "      <td>235124.500000</td>\n",
       "      <td>2.052985e+07</td>\n",
       "      <td>3.000000</td>\n",
       "      <td>1.000000</td>\n",
       "      <td>4830.000000</td>\n",
       "      <td>140.000000</td>\n",
       "      <td>6.000000</td>\n",
       "      <td>NaN</td>\n",
       "      <td>18.000000</td>\n",
       "      <td>1980.000000</td>\n",
       "      <td>...</td>\n",
       "      <td>461.000000</td>\n",
       "      <td>32.000000</td>\n",
       "      <td>NaN</td>\n",
       "      <td>171.000000</td>\n",
       "      <td>1.000000</td>\n",
       "      <td>2.000000</td>\n",
       "      <td>2.00000</td>\n",
       "      <td>15.000000</td>\n",
       "      <td>NaN</td>\n",
       "      <td>3.299000e+05</td>\n",
       "    </tr>\n",
       "    <tr>\n",
       "      <th>75%</th>\n",
       "      <td>257006.250000</td>\n",
       "      <td>2.061494e+07</td>\n",
       "      <td>4.000000</td>\n",
       "      <td>2.000000</td>\n",
       "      <td>8420.000000</td>\n",
       "      <td>200.000000</td>\n",
       "      <td>11.000000</td>\n",
       "      <td>NaN</td>\n",
       "      <td>24.000000</td>\n",
       "      <td>2017.000000</td>\n",
       "      <td>...</td>\n",
       "      <td>963.000000</td>\n",
       "      <td>40.000000</td>\n",
       "      <td>NaN</td>\n",
       "      <td>518.000000</td>\n",
       "      <td>1.000000</td>\n",
       "      <td>3.000000</td>\n",
       "      <td>2.00000</td>\n",
       "      <td>29.000000</td>\n",
       "      <td>NaN</td>\n",
       "      <td>4.790000e+05</td>\n",
       "    </tr>\n",
       "    <tr>\n",
       "      <th>max</th>\n",
       "      <td>446550.000000</td>\n",
       "      <td>2.066439e+07</td>\n",
       "      <td>100.000000</td>\n",
       "      <td>1146.000000</td>\n",
       "      <td>9992.000000</td>\n",
       "      <td>185347.000000</td>\n",
       "      <td>68.000000</td>\n",
       "      <td>NaN</td>\n",
       "      <td>2470.000000</td>\n",
       "      <td>2055.000000</td>\n",
       "      <td>...</td>\n",
       "      <td>580608.000000</td>\n",
       "      <td>34418.000000</td>\n",
       "      <td>NaN</td>\n",
       "      <td>734674.000000</td>\n",
       "      <td>50000.000000</td>\n",
       "      <td>101010.000000</td>\n",
       "      <td>1958.00000</td>\n",
       "      <td>2921.000000</td>\n",
       "      <td>NaN</td>\n",
       "      <td>1.500000e+07</td>\n",
       "    </tr>\n",
       "  </tbody>\n",
       "</table>\n",
       "<p>8 rows × 24 columns</p>\n",
       "</div>"
      ],
      "text/plain": [
       "          Unnamed: 0            id  bedroomCount  bathroomCount      postCode  \\\n",
       "count   80368.000000  8.036800e+04  73558.000000   66672.000000  80368.000000   \n",
       "mean   209681.710133  1.952922e+07      3.008877       1.427121   5266.587199   \n",
       "std    105460.844153  2.897688e+06      1.833185       4.556189   3045.698904   \n",
       "min         0.000000  1.882546e+06      1.000000       1.000000   1000.000000   \n",
       "25%    181965.750000  2.035055e+07      2.000000       1.000000   2330.000000   \n",
       "50%    235124.500000  2.052985e+07      3.000000       1.000000   4830.000000   \n",
       "75%    257006.250000  2.061494e+07      4.000000       2.000000   8420.000000   \n",
       "max    446550.000000  2.066439e+07    100.000000    1146.000000   9992.000000   \n",
       "\n",
       "       habitableSurface     roomCount  monthlyCost  diningRoomSurface  \\\n",
       "count      67783.000000  21948.000000          0.0        6901.000000   \n",
       "mean         178.499993      7.110443          NaN          21.124620   \n",
       "std          820.878936      5.824088          NaN          43.536167   \n",
       "min            6.000000      1.000000          NaN           1.000000   \n",
       "25%           93.000000      1.000000          NaN          14.000000   \n",
       "50%          140.000000      6.000000          NaN          18.000000   \n",
       "75%          200.000000     11.000000          NaN          24.000000   \n",
       "max       185347.000000     68.000000          NaN        2470.000000   \n",
       "\n",
       "       buildingConstructionYear  ...    landSurface  livingRoomSurface  \\\n",
       "count              49106.000000  ...   39541.000000       28950.000000   \n",
       "mean                1978.017350  ...    1289.410637          37.134715   \n",
       "std                   41.595504  ...    5657.080544         209.681277   \n",
       "min                 1753.000000  ...       1.000000           1.000000   \n",
       "25%                 1957.000000  ...     218.000000          25.000000   \n",
       "50%                 1980.000000  ...     461.000000          32.000000   \n",
       "75%                 2017.000000  ...     963.000000          40.000000   \n",
       "max                 2055.000000  ...  580608.000000       34418.000000   \n",
       "\n",
       "       hasBalcony  gardenSurface  parkingCountIndoor  parkingCountOutdoor  \\\n",
       "count         0.0   15958.000000        28239.000000         18326.000000   \n",
       "mean          NaN     696.321156            6.677751             8.280803   \n",
       "std           NaN    6308.715326          430.014870           746.151955   \n",
       "min           NaN       1.000000            1.000000             1.000000   \n",
       "25%           NaN      55.000000            1.000000             1.000000   \n",
       "50%           NaN     171.000000            1.000000             2.000000   \n",
       "75%           NaN     518.000000            1.000000             3.000000   \n",
       "max           NaN  734674.000000        50000.000000        101010.000000   \n",
       "\n",
       "       toiletCount  terraceSurface  accessibleDisabledPeople         price  \n",
       "count  55094.00000    28599.000000                       0.0  7.637000e+04  \n",
       "mean       1.80624       24.512710                       NaN  4.476061e+05  \n",
       "std        8.41452       43.244643                       NaN  5.115757e+05  \n",
       "min        1.00000        1.000000                       NaN  3.141000e+03  \n",
       "25%        1.00000        8.000000                       NaN  2.300000e+05  \n",
       "50%        2.00000       15.000000                       NaN  3.299000e+05  \n",
       "75%        2.00000       29.000000                       NaN  4.790000e+05  \n",
       "max     1958.00000     2921.000000                       NaN  1.500000e+07  \n",
       "\n",
       "[8 rows x 24 columns]"
      ]
     },
     "execution_count": 6,
     "metadata": {},
     "output_type": "execute_result"
    }
   ],
   "source": [
    "# Descriptive stats \n",
    "df.describe()"
   ]
  },
  {
   "cell_type": "markdown",
   "metadata": {},
   "source": [
    "## Datacleaning "
   ]
  },
  {
   "cell_type": "markdown",
   "metadata": {},
   "source": [
    "#### Duplicates"
   ]
  },
  {
   "cell_type": "code",
   "execution_count": 7,
   "metadata": {},
   "outputs": [],
   "source": [
    "# Delete duplicates \n",
    "\n",
    "df = df.drop_duplicates(subset=\"id\")"
   ]
  },
  {
   "cell_type": "code",
   "execution_count": 8,
   "metadata": {},
   "outputs": [
    {
     "data": {
      "text/plain": [
       "(80367, 53)"
      ]
     },
     "execution_count": 8,
     "metadata": {},
     "output_type": "execute_result"
    }
   ],
   "source": [
    "df.shape"
   ]
  },
  {
   "cell_type": "markdown",
   "metadata": {},
   "source": [
    "#### Missing values"
   ]
  },
  {
   "cell_type": "code",
   "execution_count": 9,
   "metadata": {},
   "outputs": [
    {
     "name": "stdout",
     "output_type": "stream",
     "text": [
      "Unnamed: 0                    0.000000\n",
      "id                            0.000000\n",
      "url                           0.000000\n",
      "type                          0.000000\n",
      "subtype                       0.000000\n",
      "postCode                      0.000000\n",
      "locality                      0.000000\n",
      "province                      0.000000\n",
      "price                         4.974679\n",
      "bedroomCount                  8.473627\n",
      "habitableSurface             15.659412\n",
      "bathroomCount                17.041821\n",
      "epcScore                     18.635758\n",
      "buildingCondition            27.842274\n",
      "toiletCount                  31.448231\n",
      "facedeCount                  33.756393\n",
      "buildingConstructionYear     38.899051\n",
      "hasTerrace                   40.985728\n",
      "heatingType                  41.327908\n",
      "floodZoneType                44.672565\n",
      "hasLivingRoom                46.650989\n",
      "kitchenType                  47.844264\n",
      "landSurface                  50.800702\n",
      "floorCount                   53.283064\n",
      "hasBasement                  63.523586\n",
      "livingRoomSurface            63.978996\n",
      "terraceSurface               64.414498\n",
      "parkingCountIndoor           64.862444\n",
      "kitchenSurface               69.810992\n",
      "roomCount                    72.691528\n",
      "hasLift                      76.303707\n",
      "parkingCountOutdoor          77.198353\n",
      "hasVisiophone                80.103774\n",
      "hasGarden                    80.144836\n",
      "gardenSurface                80.144836\n",
      "streetFacadeWidth            80.702278\n",
      "hasDiningRoom                82.405714\n",
      "hasAttic                     84.427688\n",
      "terraceOrientation           85.986786\n",
      "hasOffice                    87.075541\n",
      "hasPhotovoltaicPanels        89.985940\n",
      "hasHeatPump                  90.702652\n",
      "diningRoomSurface            91.414387\n",
      "gardenOrientation            93.031966\n",
      "hasArmoredDoor               95.399853\n",
      "hasThermicPanels             96.127764\n",
      "hasFireplace                 96.212376\n",
      "hasDressingRoom              96.730001\n",
      "hasSwimmingPool              97.741610\n",
      "hasAirConditioning           98.602660\n",
      "hasBalcony                  100.000000\n",
      "monthlyCost                 100.000000\n",
      "accessibleDisabledPeople    100.000000\n",
      "dtype: float64\n"
     ]
    }
   ],
   "source": [
    "# Display missing values\n",
    "\n",
    "def missing_values_report (dataframe):\n",
    "    \"\"\"Display the percentage of missing values in the DataFrame\"\"\"\n",
    "    missing_percent = (dataframe.isna().sum() / len(dataframe)) * 100\n",
    "    print(missing_percent.sort_values())\n",
    "\n",
    "missing_values_report(df)"
   ]
  },
  {
   "cell_type": "code",
   "execution_count": 10,
   "metadata": {},
   "outputs": [],
   "source": [
    "# Delete unuseful / not significative data columns\n",
    "\n",
    "df = df.drop(columns=[\"Unnamed: 0\",\n",
    "                      \"id\",\n",
    "                      \"url\",\n",
    "                      \"monthlyCost\",\n",
    "                      \"accessibleDisabledPeople\",\n",
    "                      \"hasBalcony\",\n",
    "                      \"hasDressingRoom\",\n",
    "                      \"streetFacadeWidth\",\n",
    "                      \"hasVisiophone\",\n",
    "                      \"hasOffice\",\n",
    "                      \"kitchenSurface\",\n",
    "                      \"diningRoomSurface\",\n",
    "                      \"facedeCount\",\n",
    "                      \"diningRoomSurface\",\n",
    "                      \"livingRoomSurface\",\n",
    "                      \"locality\"])\n",
    "\n",
    "# >> a lot of missing values in roomCount, I keep hasLivingRoom etc. "
   ]
  },
  {
   "cell_type": "code",
   "execution_count": 11,
   "metadata": {},
   "outputs": [
    {
     "data": {
      "text/plain": [
       "Index(['type', 'subtype', 'bedroomCount', 'bathroomCount', 'province',\n",
       "       'postCode', 'habitableSurface', 'roomCount', 'hasAttic', 'hasBasement',\n",
       "       'hasDiningRoom', 'buildingCondition', 'buildingConstructionYear',\n",
       "       'floorCount', 'hasLift', 'floodZoneType', 'heatingType', 'hasHeatPump',\n",
       "       'hasPhotovoltaicPanels', 'hasThermicPanels', 'kitchenType',\n",
       "       'landSurface', 'hasLivingRoom', 'hasGarden', 'gardenSurface',\n",
       "       'gardenOrientation', 'parkingCountIndoor', 'parkingCountOutdoor',\n",
       "       'hasAirConditioning', 'hasArmoredDoor', 'toiletCount',\n",
       "       'hasSwimmingPool', 'hasFireplace', 'hasTerrace', 'terraceSurface',\n",
       "       'terraceOrientation', 'epcScore', 'price'],\n",
       "      dtype='object')"
      ]
     },
     "execution_count": 11,
     "metadata": {},
     "output_type": "execute_result"
    }
   ],
   "source": [
    "# Display columns \n",
    "df.columns "
   ]
  },
  {
   "cell_type": "code",
   "execution_count": 12,
   "metadata": {},
   "outputs": [
    {
     "name": "stdout",
     "output_type": "stream",
     "text": [
      "type                         0.000000\n",
      "subtype                      0.000000\n",
      "postCode                     0.000000\n",
      "province                     0.000000\n",
      "price                        4.974679\n",
      "bedroomCount                 8.473627\n",
      "habitableSurface            15.659412\n",
      "bathroomCount               17.041821\n",
      "epcScore                    18.635758\n",
      "buildingCondition           27.842274\n",
      "toiletCount                 31.448231\n",
      "buildingConstructionYear    38.899051\n",
      "hasTerrace                  40.985728\n",
      "heatingType                 41.327908\n",
      "floodZoneType               44.672565\n",
      "hasLivingRoom               46.650989\n",
      "kitchenType                 47.844264\n",
      "landSurface                 50.800702\n",
      "floorCount                  53.283064\n",
      "hasBasement                 63.523586\n",
      "terraceSurface              64.414498\n",
      "parkingCountIndoor          64.862444\n",
      "roomCount                   72.691528\n",
      "hasLift                     76.303707\n",
      "parkingCountOutdoor         77.198353\n",
      "hasGarden                   80.144836\n",
      "gardenSurface               80.144836\n",
      "hasDiningRoom               82.405714\n",
      "hasAttic                    84.427688\n",
      "terraceOrientation          85.986786\n",
      "hasPhotovoltaicPanels       89.985940\n",
      "hasHeatPump                 90.702652\n",
      "gardenOrientation           93.031966\n",
      "hasArmoredDoor              95.399853\n",
      "hasThermicPanels            96.127764\n",
      "hasFireplace                96.212376\n",
      "hasSwimmingPool             97.741610\n",
      "hasAirConditioning          98.602660\n",
      "dtype: float64\n"
     ]
    }
   ],
   "source": [
    "# Display missing values\n",
    "missing_values_report (df)"
   ]
  },
  {
   "cell_type": "markdown",
   "metadata": {},
   "source": [
    "##### Fill missing values"
   ]
  },
  {
   "cell_type": "code",
   "execution_count": 13,
   "metadata": {},
   "outputs": [
    {
     "name": "stderr",
     "output_type": "stream",
     "text": [
      "/var/folders/w2/c2k89knd73bgqn5ls5q1bkyw0000gn/T/ipykernel_19955/1044990511.py:21: FutureWarning: Downcasting object dtype arrays on .fillna, .ffill, .bfill is deprecated and will change in a future version. Call result.infer_objects(copy=False) instead. To opt-in to the future behavior, set `pd.set_option('future.no_silent_downcasting', True)`\n",
      "  df[columns]=df[columns].fillna(False).astype(int)\n",
      "/var/folders/w2/c2k89knd73bgqn5ls5q1bkyw0000gn/T/ipykernel_19955/1044990511.py:21: FutureWarning: Downcasting object dtype arrays on .fillna, .ffill, .bfill is deprecated and will change in a future version. Call result.infer_objects(copy=False) instead. To opt-in to the future behavior, set `pd.set_option('future.no_silent_downcasting', True)`\n",
      "  df[columns]=df[columns].fillna(False).astype(int)\n",
      "/var/folders/w2/c2k89knd73bgqn5ls5q1bkyw0000gn/T/ipykernel_19955/1044990511.py:21: FutureWarning: Downcasting object dtype arrays on .fillna, .ffill, .bfill is deprecated and will change in a future version. Call result.infer_objects(copy=False) instead. To opt-in to the future behavior, set `pd.set_option('future.no_silent_downcasting', True)`\n",
      "  df[columns]=df[columns].fillna(False).astype(int)\n",
      "/var/folders/w2/c2k89knd73bgqn5ls5q1bkyw0000gn/T/ipykernel_19955/1044990511.py:21: FutureWarning: Downcasting object dtype arrays on .fillna, .ffill, .bfill is deprecated and will change in a future version. Call result.infer_objects(copy=False) instead. To opt-in to the future behavior, set `pd.set_option('future.no_silent_downcasting', True)`\n",
      "  df[columns]=df[columns].fillna(False).astype(int)\n",
      "/var/folders/w2/c2k89knd73bgqn5ls5q1bkyw0000gn/T/ipykernel_19955/1044990511.py:21: FutureWarning: Downcasting object dtype arrays on .fillna, .ffill, .bfill is deprecated and will change in a future version. Call result.infer_objects(copy=False) instead. To opt-in to the future behavior, set `pd.set_option('future.no_silent_downcasting', True)`\n",
      "  df[columns]=df[columns].fillna(False).astype(int)\n",
      "/var/folders/w2/c2k89knd73bgqn5ls5q1bkyw0000gn/T/ipykernel_19955/1044990511.py:21: FutureWarning: Downcasting object dtype arrays on .fillna, .ffill, .bfill is deprecated and will change in a future version. Call result.infer_objects(copy=False) instead. To opt-in to the future behavior, set `pd.set_option('future.no_silent_downcasting', True)`\n",
      "  df[columns]=df[columns].fillna(False).astype(int)\n",
      "/var/folders/w2/c2k89knd73bgqn5ls5q1bkyw0000gn/T/ipykernel_19955/1044990511.py:21: FutureWarning: Downcasting object dtype arrays on .fillna, .ffill, .bfill is deprecated and will change in a future version. Call result.infer_objects(copy=False) instead. To opt-in to the future behavior, set `pd.set_option('future.no_silent_downcasting', True)`\n",
      "  df[columns]=df[columns].fillna(False).astype(int)\n",
      "/var/folders/w2/c2k89knd73bgqn5ls5q1bkyw0000gn/T/ipykernel_19955/1044990511.py:21: FutureWarning: Downcasting object dtype arrays on .fillna, .ffill, .bfill is deprecated and will change in a future version. Call result.infer_objects(copy=False) instead. To opt-in to the future behavior, set `pd.set_option('future.no_silent_downcasting', True)`\n",
      "  df[columns]=df[columns].fillna(False).astype(int)\n",
      "/var/folders/w2/c2k89knd73bgqn5ls5q1bkyw0000gn/T/ipykernel_19955/1044990511.py:21: FutureWarning: Downcasting object dtype arrays on .fillna, .ffill, .bfill is deprecated and will change in a future version. Call result.infer_objects(copy=False) instead. To opt-in to the future behavior, set `pd.set_option('future.no_silent_downcasting', True)`\n",
      "  df[columns]=df[columns].fillna(False).astype(int)\n",
      "/var/folders/w2/c2k89knd73bgqn5ls5q1bkyw0000gn/T/ipykernel_19955/1044990511.py:21: FutureWarning: Downcasting object dtype arrays on .fillna, .ffill, .bfill is deprecated and will change in a future version. Call result.infer_objects(copy=False) instead. To opt-in to the future behavior, set `pd.set_option('future.no_silent_downcasting', True)`\n",
      "  df[columns]=df[columns].fillna(False).astype(int)\n",
      "/var/folders/w2/c2k89knd73bgqn5ls5q1bkyw0000gn/T/ipykernel_19955/1044990511.py:21: FutureWarning: Downcasting object dtype arrays on .fillna, .ffill, .bfill is deprecated and will change in a future version. Call result.infer_objects(copy=False) instead. To opt-in to the future behavior, set `pd.set_option('future.no_silent_downcasting', True)`\n",
      "  df[columns]=df[columns].fillna(False).astype(int)\n",
      "/var/folders/w2/c2k89knd73bgqn5ls5q1bkyw0000gn/T/ipykernel_19955/1044990511.py:21: FutureWarning: Downcasting object dtype arrays on .fillna, .ffill, .bfill is deprecated and will change in a future version. Call result.infer_objects(copy=False) instead. To opt-in to the future behavior, set `pd.set_option('future.no_silent_downcasting', True)`\n",
      "  df[columns]=df[columns].fillna(False).astype(int)\n",
      "/var/folders/w2/c2k89knd73bgqn5ls5q1bkyw0000gn/T/ipykernel_19955/1044990511.py:21: FutureWarning: Downcasting object dtype arrays on .fillna, .ffill, .bfill is deprecated and will change in a future version. Call result.infer_objects(copy=False) instead. To opt-in to the future behavior, set `pd.set_option('future.no_silent_downcasting', True)`\n",
      "  df[columns]=df[columns].fillna(False).astype(int)\n",
      "/var/folders/w2/c2k89knd73bgqn5ls5q1bkyw0000gn/T/ipykernel_19955/1044990511.py:21: FutureWarning: Downcasting object dtype arrays on .fillna, .ffill, .bfill is deprecated and will change in a future version. Call result.infer_objects(copy=False) instead. To opt-in to the future behavior, set `pd.set_option('future.no_silent_downcasting', True)`\n",
      "  df[columns]=df[columns].fillna(False).astype(int)\n"
     ]
    }
   ],
   "source": [
    "# Boolean columns (consider that a missing value = False)\n",
    "\n",
    "bool_columns = [\n",
    "    \"hasTerrace\",\n",
    "    \"hasLivingRoom\",\n",
    "    \"hasBasement\",\n",
    "    \"hasLift\",\n",
    "    \"hasGarden\",\n",
    "    \"hasDiningRoom\",\n",
    "    \"hasAttic\",\n",
    "    \"hasPhotovoltaicPanels\",\n",
    "    \"hasHeatPump\",\n",
    "    \"hasArmoredDoor\",\n",
    "    \"hasThermicPanels\",\n",
    "    \"hasFireplace\",\n",
    "    \"hasSwimmingPool\",\n",
    "    \"hasAirConditioning\"\n",
    "    ]\n",
    "\n",
    "for columns in bool_columns :\n",
    "    df[columns]=df[columns].fillna(False).astype(int)\n",
    "\n",
    "    "
   ]
  },
  {
   "cell_type": "code",
   "execution_count": 14,
   "metadata": {},
   "outputs": [
    {
     "data": {
      "text/plain": [
       "hasBasement\n",
       "0    51052\n",
       "1    29315\n",
       "Name: count, dtype: int64"
      ]
     },
     "execution_count": 14,
     "metadata": {},
     "output_type": "execute_result"
    }
   ],
   "source": [
    "# Check if the booleens were replaced by 0 and 1 in the modified columns\n",
    "df['hasBasement'].value_counts()\n"
   ]
  },
  {
   "cell_type": "code",
   "execution_count": 15,
   "metadata": {},
   "outputs": [
    {
     "data": {
      "text/plain": [
       "type                         object\n",
       "subtype                      object\n",
       "bedroomCount                float64\n",
       "bathroomCount               float64\n",
       "province                     object\n",
       "postCode                      int64\n",
       "habitableSurface            float64\n",
       "roomCount                   float64\n",
       "hasAttic                      int64\n",
       "hasBasement                   int64\n",
       "hasDiningRoom                 int64\n",
       "buildingCondition            object\n",
       "buildingConstructionYear    float64\n",
       "floorCount                  float64\n",
       "hasLift                       int64\n",
       "floodZoneType                object\n",
       "heatingType                  object\n",
       "hasHeatPump                   int64\n",
       "hasPhotovoltaicPanels         int64\n",
       "hasThermicPanels              int64\n",
       "kitchenType                  object\n",
       "landSurface                 float64\n",
       "hasLivingRoom                 int64\n",
       "hasGarden                     int64\n",
       "gardenSurface               float64\n",
       "gardenOrientation            object\n",
       "parkingCountIndoor          float64\n",
       "parkingCountOutdoor         float64\n",
       "hasAirConditioning            int64\n",
       "hasArmoredDoor                int64\n",
       "toiletCount                 float64\n",
       "hasSwimmingPool               int64\n",
       "hasFireplace                  int64\n",
       "hasTerrace                    int64\n",
       "terraceSurface              float64\n",
       "terraceOrientation           object\n",
       "epcScore                     object\n",
       "price                       float64\n",
       "dtype: object"
      ]
     },
     "execution_count": 15,
     "metadata": {},
     "output_type": "execute_result"
    }
   ],
   "source": [
    "\n",
    "# Data type (check if all the last modified columns are filled by integers)\n",
    "df.dtypes"
   ]
  },
  {
   "cell_type": "code",
   "execution_count": 16,
   "metadata": {},
   "outputs": [
    {
     "name": "stdout",
     "output_type": "stream",
     "text": [
      "DataFrame dtypes remaining:\n",
      "int64      15\n",
      "float64    13\n",
      "object     10\n",
      "Name: count, dtype: int64\n"
     ]
    }
   ],
   "source": [
    "print (\"DataFrame dtypes remaining:\")\n",
    "print (df.dtypes.value_counts())"
   ]
  },
  {
   "cell_type": "code",
   "execution_count": 17,
   "metadata": {},
   "outputs": [
    {
     "name": "stdout",
     "output_type": "stream",
     "text": [
      "type                         0.000000\n",
      "hasTerrace                   0.000000\n",
      "hasFireplace                 0.000000\n",
      "hasSwimmingPool              0.000000\n",
      "hasArmoredDoor               0.000000\n",
      "hasAirConditioning           0.000000\n",
      "hasGarden                    0.000000\n",
      "hasLivingRoom                0.000000\n",
      "hasThermicPanels             0.000000\n",
      "hasHeatPump                  0.000000\n",
      "hasLift                      0.000000\n",
      "hasPhotovoltaicPanels        0.000000\n",
      "subtype                      0.000000\n",
      "hasDiningRoom                0.000000\n",
      "hasBasement                  0.000000\n",
      "hasAttic                     0.000000\n",
      "province                     0.000000\n",
      "postCode                     0.000000\n",
      "price                        4.974679\n",
      "bedroomCount                 8.473627\n",
      "habitableSurface            15.659412\n",
      "bathroomCount               17.041821\n",
      "epcScore                    18.635758\n",
      "buildingCondition           27.842274\n",
      "toiletCount                 31.448231\n",
      "buildingConstructionYear    38.899051\n",
      "heatingType                 41.327908\n",
      "floodZoneType               44.672565\n",
      "kitchenType                 47.844264\n",
      "landSurface                 50.800702\n",
      "floorCount                  53.283064\n",
      "terraceSurface              64.414498\n",
      "parkingCountIndoor          64.862444\n",
      "roomCount                   72.691528\n",
      "parkingCountOutdoor         77.198353\n",
      "gardenSurface               80.144836\n",
      "terraceOrientation          85.986786\n",
      "gardenOrientation           93.031966\n",
      "dtype: float64\n"
     ]
    }
   ],
   "source": [
    "missing_values_report(df)"
   ]
  },
  {
   "cell_type": "markdown",
   "metadata": {},
   "source": [
    "### Treat the objects columns "
   ]
  },
  {
   "cell_type": "code",
   "execution_count": 18,
   "metadata": {},
   "outputs": [
    {
     "name": "stdout",
     "output_type": "stream",
     "text": [
      "10 objects columns left\n",
      "['type', 'subtype', 'province', 'buildingCondition', 'floodZoneType', 'heatingType', 'kitchenType', 'gardenOrientation', 'terraceOrientation', 'epcScore']\n"
     ]
    }
   ],
   "source": [
    "# List columns with objects\n",
    "objects_columns = df.select_dtypes('object').columns\n",
    "missing_objects_percent = (df)\n",
    "print(f\"{len(objects_columns)} objects columns left\")\n",
    "print(objects_columns.tolist())\n"
   ]
  },
  {
   "cell_type": "code",
   "execution_count": 19,
   "metadata": {},
   "outputs": [
    {
     "name": "stdout",
     "output_type": "stream",
     "text": [
      "type                   0.000000\n",
      "subtype                0.000000\n",
      "province               0.000000\n",
      "epcScore              18.635758\n",
      "buildingCondition     27.842274\n",
      "heatingType           41.327908\n",
      "floodZoneType         44.672565\n",
      "kitchenType           47.844264\n",
      "terraceOrientation    85.986786\n",
      "gardenOrientation     93.031966\n",
      "dtype: float64\n"
     ]
    }
   ],
   "source": [
    "missing_values_report(df[objects_columns])"
   ]
  },
  {
   "cell_type": "code",
   "execution_count": 20,
   "metadata": {},
   "outputs": [],
   "source": [
    "# Fill N/A objects columns with unknown \n",
    "\n",
    "columns_to_fill_unknown = [\n",
    "    \"epcScore\",\n",
    "    \"buildingCondition\",\n",
    "    \"heatingType\",\n",
    "    \"floodZoneType\",\n",
    "    \"kitchenType\",\n",
    "    \"terraceOrientation\", \n",
    "    \"gardenOrientation\"\n",
    "    ]\n",
    "\n",
    "for col in columns_to_fill_unknown:\n",
    "    df[col]=df[col].fillna(\"unknown\")\n"
   ]
  },
  {
   "cell_type": "code",
   "execution_count": 21,
   "metadata": {},
   "outputs": [
    {
     "data": {
      "application/vnd.microsoft.datawrangler.viewer.v0+json": {
       "columns": [
        {
         "name": "index",
         "rawType": "int64",
         "type": "integer"
        },
        {
         "name": "bedroomCount",
         "rawType": "float64",
         "type": "float"
        },
        {
         "name": "bathroomCount",
         "rawType": "float64",
         "type": "float"
        },
        {
         "name": "postCode",
         "rawType": "int64",
         "type": "integer"
        },
        {
         "name": "habitableSurface",
         "rawType": "float64",
         "type": "float"
        },
        {
         "name": "roomCount",
         "rawType": "float64",
         "type": "float"
        },
        {
         "name": "hasAttic",
         "rawType": "int64",
         "type": "integer"
        },
        {
         "name": "hasBasement",
         "rawType": "int64",
         "type": "integer"
        },
        {
         "name": "hasDiningRoom",
         "rawType": "int64",
         "type": "integer"
        },
        {
         "name": "buildingConstructionYear",
         "rawType": "float64",
         "type": "float"
        },
        {
         "name": "floorCount",
         "rawType": "float64",
         "type": "float"
        },
        {
         "name": "hasLift",
         "rawType": "int64",
         "type": "integer"
        },
        {
         "name": "hasHeatPump",
         "rawType": "int64",
         "type": "integer"
        },
        {
         "name": "hasPhotovoltaicPanels",
         "rawType": "int64",
         "type": "integer"
        },
        {
         "name": "hasThermicPanels",
         "rawType": "int64",
         "type": "integer"
        },
        {
         "name": "landSurface",
         "rawType": "float64",
         "type": "float"
        },
        {
         "name": "hasLivingRoom",
         "rawType": "int64",
         "type": "integer"
        },
        {
         "name": "hasGarden",
         "rawType": "int64",
         "type": "integer"
        },
        {
         "name": "gardenSurface",
         "rawType": "float64",
         "type": "float"
        },
        {
         "name": "parkingCountIndoor",
         "rawType": "float64",
         "type": "float"
        },
        {
         "name": "parkingCountOutdoor",
         "rawType": "float64",
         "type": "float"
        },
        {
         "name": "hasAirConditioning",
         "rawType": "int64",
         "type": "integer"
        },
        {
         "name": "hasArmoredDoor",
         "rawType": "int64",
         "type": "integer"
        },
        {
         "name": "toiletCount",
         "rawType": "float64",
         "type": "float"
        },
        {
         "name": "hasSwimmingPool",
         "rawType": "int64",
         "type": "integer"
        },
        {
         "name": "hasFireplace",
         "rawType": "int64",
         "type": "integer"
        },
        {
         "name": "hasTerrace",
         "rawType": "int64",
         "type": "integer"
        },
        {
         "name": "terraceSurface",
         "rawType": "float64",
         "type": "float"
        },
        {
         "name": "price",
         "rawType": "float64",
         "type": "float"
        },
        {
         "name": "type_APARTMENT_GROUP",
         "rawType": "int64",
         "type": "integer"
        },
        {
         "name": "type_HOUSE",
         "rawType": "int64",
         "type": "integer"
        },
        {
         "name": "type_HOUSE_GROUP",
         "rawType": "int64",
         "type": "integer"
        },
        {
         "name": "subtype_APARTMENT_BLOCK",
         "rawType": "int64",
         "type": "integer"
        },
        {
         "name": "subtype_APARTMENT_GROUP",
         "rawType": "int64",
         "type": "integer"
        },
        {
         "name": "subtype_BUNGALOW",
         "rawType": "int64",
         "type": "integer"
        },
        {
         "name": "subtype_CASTLE",
         "rawType": "int64",
         "type": "integer"
        },
        {
         "name": "subtype_CHALET",
         "rawType": "int64",
         "type": "integer"
        },
        {
         "name": "subtype_COUNTRY_COTTAGE",
         "rawType": "int64",
         "type": "integer"
        },
        {
         "name": "subtype_DUPLEX",
         "rawType": "int64",
         "type": "integer"
        },
        {
         "name": "subtype_EXCEPTIONAL_PROPERTY",
         "rawType": "int64",
         "type": "integer"
        },
        {
         "name": "subtype_FARMHOUSE",
         "rawType": "int64",
         "type": "integer"
        },
        {
         "name": "subtype_FLAT_STUDIO",
         "rawType": "int64",
         "type": "integer"
        },
        {
         "name": "subtype_GROUND_FLOOR",
         "rawType": "int64",
         "type": "integer"
        },
        {
         "name": "subtype_HOUSE",
         "rawType": "int64",
         "type": "integer"
        },
        {
         "name": "subtype_HOUSE_GROUP",
         "rawType": "int64",
         "type": "integer"
        },
        {
         "name": "subtype_KOT",
         "rawType": "int64",
         "type": "integer"
        },
        {
         "name": "subtype_LOFT",
         "rawType": "int64",
         "type": "integer"
        },
        {
         "name": "subtype_MANOR_HOUSE",
         "rawType": "int64",
         "type": "integer"
        },
        {
         "name": "subtype_MANSION",
         "rawType": "int64",
         "type": "integer"
        },
        {
         "name": "subtype_MIXED_USE_BUILDING",
         "rawType": "int64",
         "type": "integer"
        },
        {
         "name": "subtype_OTHER_PROPERTY",
         "rawType": "int64",
         "type": "integer"
        },
        {
         "name": "subtype_PAVILION",
         "rawType": "int64",
         "type": "integer"
        },
        {
         "name": "subtype_PENTHOUSE",
         "rawType": "int64",
         "type": "integer"
        },
        {
         "name": "subtype_SERVICE_FLAT",
         "rawType": "int64",
         "type": "integer"
        },
        {
         "name": "subtype_TOWN_HOUSE",
         "rawType": "int64",
         "type": "integer"
        },
        {
         "name": "subtype_TRIPLEX",
         "rawType": "int64",
         "type": "integer"
        },
        {
         "name": "subtype_VILLA",
         "rawType": "int64",
         "type": "integer"
        },
        {
         "name": "province_Brussels",
         "rawType": "int64",
         "type": "integer"
        },
        {
         "name": "province_East Flanders",
         "rawType": "int64",
         "type": "integer"
        },
        {
         "name": "province_Flemish Brabant",
         "rawType": "int64",
         "type": "integer"
        },
        {
         "name": "province_Hainaut",
         "rawType": "int64",
         "type": "integer"
        },
        {
         "name": "province_Limburg",
         "rawType": "int64",
         "type": "integer"
        },
        {
         "name": "province_Liège",
         "rawType": "int64",
         "type": "integer"
        },
        {
         "name": "province_Luxembourg",
         "rawType": "int64",
         "type": "integer"
        },
        {
         "name": "province_Namur",
         "rawType": "int64",
         "type": "integer"
        },
        {
         "name": "province_Walloon Brabant",
         "rawType": "int64",
         "type": "integer"
        },
        {
         "name": "province_West Flanders",
         "rawType": "int64",
         "type": "integer"
        },
        {
         "name": "buildingCondition_GOOD",
         "rawType": "int64",
         "type": "integer"
        },
        {
         "name": "buildingCondition_JUST_RENOVATED",
         "rawType": "int64",
         "type": "integer"
        },
        {
         "name": "buildingCondition_TO_BE_DONE_UP",
         "rawType": "int64",
         "type": "integer"
        },
        {
         "name": "buildingCondition_TO_RENOVATE",
         "rawType": "int64",
         "type": "integer"
        },
        {
         "name": "buildingCondition_TO_RESTORE",
         "rawType": "int64",
         "type": "integer"
        },
        {
         "name": "buildingCondition_unknown",
         "rawType": "int64",
         "type": "integer"
        },
        {
         "name": "heatingType_ELECTRIC",
         "rawType": "int64",
         "type": "integer"
        },
        {
         "name": "heatingType_FUELOIL",
         "rawType": "int64",
         "type": "integer"
        },
        {
         "name": "heatingType_GAS",
         "rawType": "int64",
         "type": "integer"
        },
        {
         "name": "heatingType_PELLET",
         "rawType": "int64",
         "type": "integer"
        },
        {
         "name": "heatingType_SOLAR",
         "rawType": "int64",
         "type": "integer"
        },
        {
         "name": "heatingType_WOOD",
         "rawType": "int64",
         "type": "integer"
        },
        {
         "name": "heatingType_unknown",
         "rawType": "int64",
         "type": "integer"
        },
        {
         "name": "kitchenType_INSTALLED",
         "rawType": "int64",
         "type": "integer"
        },
        {
         "name": "kitchenType_NOT_INSTALLED",
         "rawType": "int64",
         "type": "integer"
        },
        {
         "name": "kitchenType_SEMI_EQUIPPED",
         "rawType": "int64",
         "type": "integer"
        },
        {
         "name": "kitchenType_USA_HYPER_EQUIPPED",
         "rawType": "int64",
         "type": "integer"
        },
        {
         "name": "kitchenType_USA_INSTALLED",
         "rawType": "int64",
         "type": "integer"
        },
        {
         "name": "kitchenType_USA_SEMI_EQUIPPED",
         "rawType": "int64",
         "type": "integer"
        },
        {
         "name": "kitchenType_USA_UNINSTALLED",
         "rawType": "int64",
         "type": "integer"
        },
        {
         "name": "kitchenType_unknown",
         "rawType": "int64",
         "type": "integer"
        },
        {
         "name": "floodZoneType_CIRCUMSCRIBED_WATERSIDE_ZONE",
         "rawType": "int64",
         "type": "integer"
        },
        {
         "name": "floodZoneType_NON_FLOOD_ZONE",
         "rawType": "int64",
         "type": "integer"
        },
        {
         "name": "floodZoneType_POSSIBLE_FLOOD_ZONE",
         "rawType": "int64",
         "type": "integer"
        },
        {
         "name": "floodZoneType_POSSIBLE_N_CIRCUMSCRIBED_FLOOD_ZONE",
         "rawType": "int64",
         "type": "integer"
        },
        {
         "name": "floodZoneType_POSSIBLE_N_CIRCUMSCRIBED_WATERSIDE_ZONE",
         "rawType": "int64",
         "type": "integer"
        },
        {
         "name": "floodZoneType_RECOGNIZED_FLOOD_ZONE",
         "rawType": "int64",
         "type": "integer"
        },
        {
         "name": "floodZoneType_RECOGNIZED_N_CIRCUMSCRIBED_FLOOD_ZONE",
         "rawType": "int64",
         "type": "integer"
        },
        {
         "name": "floodZoneType_RECOGNIZED_N_CIRCUMSCRIBED_WATERSIDE_FLOOD_ZONE",
         "rawType": "int64",
         "type": "integer"
        },
        {
         "name": "floodZoneType_unknown",
         "rawType": "int64",
         "type": "integer"
        },
        {
         "name": "epcScore_A+",
         "rawType": "int64",
         "type": "integer"
        },
        {
         "name": "epcScore_A++",
         "rawType": "int64",
         "type": "integer"
        },
        {
         "name": "epcScore_B",
         "rawType": "int64",
         "type": "integer"
        },
        {
         "name": "epcScore_C",
         "rawType": "int64",
         "type": "integer"
        },
        {
         "name": "epcScore_C_A",
         "rawType": "int64",
         "type": "integer"
        },
        {
         "name": "epcScore_C_B",
         "rawType": "int64",
         "type": "integer"
        },
        {
         "name": "epcScore_D",
         "rawType": "int64",
         "type": "integer"
        },
        {
         "name": "epcScore_D_C",
         "rawType": "int64",
         "type": "integer"
        },
        {
         "name": "epcScore_E",
         "rawType": "int64",
         "type": "integer"
        },
        {
         "name": "epcScore_E_C",
         "rawType": "int64",
         "type": "integer"
        },
        {
         "name": "epcScore_E_D",
         "rawType": "int64",
         "type": "integer"
        },
        {
         "name": "epcScore_F",
         "rawType": "int64",
         "type": "integer"
        },
        {
         "name": "epcScore_F_C",
         "rawType": "int64",
         "type": "integer"
        },
        {
         "name": "epcScore_F_D",
         "rawType": "int64",
         "type": "integer"
        },
        {
         "name": "epcScore_G",
         "rawType": "int64",
         "type": "integer"
        },
        {
         "name": "epcScore_G_C",
         "rawType": "int64",
         "type": "integer"
        },
        {
         "name": "epcScore_G_E",
         "rawType": "int64",
         "type": "integer"
        },
        {
         "name": "epcScore_G_F",
         "rawType": "int64",
         "type": "integer"
        },
        {
         "name": "epcScore_X",
         "rawType": "int64",
         "type": "integer"
        },
        {
         "name": "epcScore_unknown",
         "rawType": "int64",
         "type": "integer"
        },
        {
         "name": "gardenOrientation_NORTH",
         "rawType": "int64",
         "type": "integer"
        },
        {
         "name": "gardenOrientation_NORTH_EAST",
         "rawType": "int64",
         "type": "integer"
        },
        {
         "name": "gardenOrientation_NORTH_WEST",
         "rawType": "int64",
         "type": "integer"
        },
        {
         "name": "gardenOrientation_SOUTH",
         "rawType": "int64",
         "type": "integer"
        },
        {
         "name": "gardenOrientation_SOUTH_EAST",
         "rawType": "int64",
         "type": "integer"
        },
        {
         "name": "gardenOrientation_SOUTH_WEST",
         "rawType": "int64",
         "type": "integer"
        },
        {
         "name": "gardenOrientation_WEST",
         "rawType": "int64",
         "type": "integer"
        },
        {
         "name": "gardenOrientation_unknown",
         "rawType": "int64",
         "type": "integer"
        },
        {
         "name": "terraceOrientation_NORTH",
         "rawType": "int64",
         "type": "integer"
        },
        {
         "name": "terraceOrientation_NORTH_EAST",
         "rawType": "int64",
         "type": "integer"
        },
        {
         "name": "terraceOrientation_NORTH_WEST",
         "rawType": "int64",
         "type": "integer"
        },
        {
         "name": "terraceOrientation_SOUTH",
         "rawType": "int64",
         "type": "integer"
        },
        {
         "name": "terraceOrientation_SOUTH_EAST",
         "rawType": "int64",
         "type": "integer"
        },
        {
         "name": "terraceOrientation_SOUTH_WEST",
         "rawType": "int64",
         "type": "integer"
        },
        {
         "name": "terraceOrientation_WEST",
         "rawType": "int64",
         "type": "integer"
        },
        {
         "name": "terraceOrientation_unknown",
         "rawType": "int64",
         "type": "integer"
        }
       ],
       "conversionMethod": "pd.DataFrame",
       "ref": "7f6e47fd-104b-4fe5-8446-0c0c7ffcbcbc",
       "rows": [
        [
         "0",
         "2.0",
         "1.0",
         "1040",
         "100.0",
         null,
         "0",
         "1",
         "0",
         "2004.0",
         "7.0",
         "1",
         "0",
         "0",
         "0",
         null,
         "1",
         "0",
         null,
         "1.0",
         null,
         "0",
         "0",
         "1.0",
         "0",
         "0",
         "1",
         "7.0",
         "399000.0",
         "0",
         "0",
         "0",
         "0",
         "0",
         "0",
         "0",
         "0",
         "0",
         "0",
         "0",
         "0",
         "0",
         "0",
         "0",
         "0",
         "0",
         "0",
         "0",
         "0",
         "0",
         "0",
         "0",
         "0",
         "0",
         "0",
         "0",
         "0",
         "1",
         "0",
         "0",
         "0",
         "0",
         "0",
         "0",
         "0",
         "0",
         "0",
         "1",
         "0",
         "0",
         "0",
         "0",
         "0",
         "0",
         "0",
         "1",
         "0",
         "0",
         "0",
         "0",
         "0",
         "0",
         "1",
         "0",
         "0",
         "0",
         "0",
         "0",
         "0",
         "1",
         "0",
         "0",
         "0",
         "0",
         "0",
         "0",
         "0",
         "0",
         "0",
         "0",
         "1",
         "0",
         "0",
         "0",
         "0",
         "0",
         "0",
         "0",
         "0",
         "0",
         "0",
         "0",
         "0",
         "0",
         "0",
         "0",
         "0",
         "0",
         "0",
         "0",
         "0",
         "0",
         "0",
         "0",
         "1",
         "0",
         "0",
         "0",
         "0",
         "0",
         "0",
         "0",
         "1"
        ],
        [
         "1",
         "4.0",
         "2.0",
         "1040",
         "270.0",
         "12.0",
         "1",
         "1",
         "1",
         "1910.0",
         "3.0",
         "0",
         "0",
         "0",
         "0",
         "209.0",
         "1",
         "1",
         "100.0",
         null,
         null,
         "0",
         "0",
         "3.0",
         "0",
         "0",
         "1",
         "1.0",
         "895000.0",
         "0",
         "1",
         "0",
         "0",
         "0",
         "0",
         "0",
         "0",
         "0",
         "0",
         "0",
         "0",
         "0",
         "0",
         "1",
         "0",
         "0",
         "0",
         "0",
         "0",
         "0",
         "0",
         "0",
         "0",
         "0",
         "0",
         "0",
         "0",
         "1",
         "0",
         "0",
         "0",
         "0",
         "0",
         "0",
         "0",
         "0",
         "0",
         "0",
         "0",
         "1",
         "0",
         "0",
         "0",
         "0",
         "1",
         "0",
         "0",
         "0",
         "0",
         "0",
         "1",
         "0",
         "0",
         "0",
         "0",
         "0",
         "0",
         "0",
         "0",
         "1",
         "0",
         "0",
         "0",
         "0",
         "0",
         "0",
         "0",
         "0",
         "0",
         "0",
         "0",
         "0",
         "0",
         "0",
         "0",
         "1",
         "0",
         "0",
         "0",
         "0",
         "0",
         "0",
         "0",
         "0",
         "0",
         "0",
         "0",
         "0",
         "0",
         "1",
         "0",
         "0",
         "0",
         "0",
         "0",
         "0",
         "0",
         "0",
         "0",
         "0",
         "0",
         "0",
         "1"
        ],
        [
         "2",
         "2.0",
         "1.0",
         "1040",
         "87.0",
         null,
         "0",
         "0",
         "0",
         "1970.0",
         "7.0",
         "1",
         "0",
         "0",
         "0",
         null,
         "1",
         "0",
         null,
         null,
         null,
         "0",
         "0",
         "1.0",
         "0",
         "0",
         "1",
         "2.0",
         "465000.0",
         "0",
         "0",
         "0",
         "0",
         "0",
         "0",
         "0",
         "0",
         "0",
         "0",
         "0",
         "0",
         "0",
         "0",
         "0",
         "0",
         "0",
         "0",
         "0",
         "0",
         "0",
         "0",
         "0",
         "0",
         "0",
         "0",
         "0",
         "0",
         "1",
         "0",
         "0",
         "0",
         "0",
         "0",
         "0",
         "0",
         "0",
         "0",
         "0",
         "0",
         "0",
         "0",
         "0",
         "0",
         "0",
         "1",
         "0",
         "0",
         "0",
         "0",
         "0",
         "0",
         "0",
         "0",
         "0",
         "0",
         "0",
         "0",
         "0",
         "0",
         "0",
         "0",
         "0",
         "0",
         "0",
         "0",
         "0",
         "1",
         "0",
         "0",
         "0",
         "0",
         "0",
         "0",
         "0",
         "0",
         "0",
         "0",
         "0",
         "1",
         "0",
         "0",
         "0",
         "0",
         "0",
         "0",
         "0",
         "0",
         "0",
         "0",
         "0",
         "0",
         "0",
         "0",
         "0",
         "1",
         "0",
         "0",
         "0",
         "0",
         "0",
         "0",
         "0",
         "1"
        ],
        [
         "3",
         "2.0",
         "2.0",
         "1040",
         "104.0",
         null,
         "0",
         "0",
         "0",
         "2018.0",
         "21.0",
         "1",
         "0",
         "0",
         "0",
         null,
         "1",
         "0",
         null,
         null,
         null,
         "0",
         "1",
         "2.0",
         "0",
         "0",
         "1",
         "3.0",
         "590000.0",
         "0",
         "0",
         "0",
         "0",
         "0",
         "0",
         "0",
         "0",
         "0",
         "0",
         "0",
         "0",
         "0",
         "0",
         "0",
         "0",
         "0",
         "0",
         "0",
         "0",
         "0",
         "0",
         "0",
         "0",
         "0",
         "0",
         "0",
         "0",
         "1",
         "0",
         "0",
         "0",
         "0",
         "0",
         "0",
         "0",
         "0",
         "0",
         "0",
         "0",
         "0",
         "0",
         "0",
         "0",
         "0",
         "0",
         "1",
         "0",
         "0",
         "0",
         "0",
         "0",
         "0",
         "0",
         "0",
         "0",
         "0",
         "0",
         "0",
         "0",
         "0",
         "0",
         "0",
         "0",
         "1",
         "0",
         "0",
         "0",
         "0",
         "0",
         "1",
         "0",
         "0",
         "0",
         "0",
         "0",
         "0",
         "0",
         "0",
         "0",
         "0",
         "0",
         "0",
         "0",
         "0",
         "0",
         "0",
         "0",
         "0",
         "0",
         "0",
         "0",
         "0",
         "0",
         "0",
         "1",
         "0",
         "0",
         "0",
         "0",
         "0",
         "0",
         "0",
         "1"
        ],
        [
         "4",
         "1.0",
         "1.0",
         "1040",
         "71.0",
         null,
         "0",
         "0",
         "0",
         "1906.0",
         "3.0",
         "0",
         "0",
         "0",
         "0",
         null,
         "0",
         "0",
         null,
         null,
         null,
         "0",
         "0",
         "1.0",
         "0",
         "0",
         "0",
         null,
         "289000.0",
         "0",
         "0",
         "0",
         "0",
         "0",
         "0",
         "0",
         "0",
         "0",
         "0",
         "0",
         "0",
         "1",
         "0",
         "0",
         "0",
         "0",
         "0",
         "0",
         "0",
         "0",
         "0",
         "0",
         "0",
         "0",
         "0",
         "0",
         "0",
         "1",
         "0",
         "0",
         "0",
         "0",
         "0",
         "0",
         "0",
         "0",
         "0",
         "0",
         "0",
         "0",
         "0",
         "0",
         "0",
         "0",
         "0",
         "1",
         "0",
         "0",
         "0",
         "0",
         "1",
         "0",
         "0",
         "0",
         "0",
         "0",
         "0",
         "0",
         "0",
         "1",
         "0",
         "0",
         "0",
         "0",
         "0",
         "0",
         "0",
         "0",
         "0",
         "0",
         "0",
         "0",
         "0",
         "0",
         "0",
         "1",
         "0",
         "0",
         "0",
         "0",
         "0",
         "0",
         "0",
         "0",
         "0",
         "0",
         "0",
         "0",
         "0",
         "0",
         "0",
         "0",
         "0",
         "0",
         "1",
         "0",
         "0",
         "0",
         "0",
         "0",
         "0",
         "0",
         "1"
        ]
       ],
       "shape": {
        "columns": 132,
        "rows": 5
       }
      },
      "text/html": [
       "<div>\n",
       "<style scoped>\n",
       "    .dataframe tbody tr th:only-of-type {\n",
       "        vertical-align: middle;\n",
       "    }\n",
       "\n",
       "    .dataframe tbody tr th {\n",
       "        vertical-align: top;\n",
       "    }\n",
       "\n",
       "    .dataframe thead th {\n",
       "        text-align: right;\n",
       "    }\n",
       "</style>\n",
       "<table border=\"1\" class=\"dataframe\">\n",
       "  <thead>\n",
       "    <tr style=\"text-align: right;\">\n",
       "      <th></th>\n",
       "      <th>bedroomCount</th>\n",
       "      <th>bathroomCount</th>\n",
       "      <th>postCode</th>\n",
       "      <th>habitableSurface</th>\n",
       "      <th>roomCount</th>\n",
       "      <th>hasAttic</th>\n",
       "      <th>hasBasement</th>\n",
       "      <th>hasDiningRoom</th>\n",
       "      <th>buildingConstructionYear</th>\n",
       "      <th>floorCount</th>\n",
       "      <th>...</th>\n",
       "      <th>gardenOrientation_WEST</th>\n",
       "      <th>gardenOrientation_unknown</th>\n",
       "      <th>terraceOrientation_NORTH</th>\n",
       "      <th>terraceOrientation_NORTH_EAST</th>\n",
       "      <th>terraceOrientation_NORTH_WEST</th>\n",
       "      <th>terraceOrientation_SOUTH</th>\n",
       "      <th>terraceOrientation_SOUTH_EAST</th>\n",
       "      <th>terraceOrientation_SOUTH_WEST</th>\n",
       "      <th>terraceOrientation_WEST</th>\n",
       "      <th>terraceOrientation_unknown</th>\n",
       "    </tr>\n",
       "  </thead>\n",
       "  <tbody>\n",
       "    <tr>\n",
       "      <th>0</th>\n",
       "      <td>2.0</td>\n",
       "      <td>1.0</td>\n",
       "      <td>1040</td>\n",
       "      <td>100.0</td>\n",
       "      <td>NaN</td>\n",
       "      <td>0</td>\n",
       "      <td>1</td>\n",
       "      <td>0</td>\n",
       "      <td>2004.0</td>\n",
       "      <td>7.0</td>\n",
       "      <td>...</td>\n",
       "      <td>0</td>\n",
       "      <td>1</td>\n",
       "      <td>0</td>\n",
       "      <td>0</td>\n",
       "      <td>0</td>\n",
       "      <td>0</td>\n",
       "      <td>0</td>\n",
       "      <td>0</td>\n",
       "      <td>0</td>\n",
       "      <td>1</td>\n",
       "    </tr>\n",
       "    <tr>\n",
       "      <th>1</th>\n",
       "      <td>4.0</td>\n",
       "      <td>2.0</td>\n",
       "      <td>1040</td>\n",
       "      <td>270.0</td>\n",
       "      <td>12.0</td>\n",
       "      <td>1</td>\n",
       "      <td>1</td>\n",
       "      <td>1</td>\n",
       "      <td>1910.0</td>\n",
       "      <td>3.0</td>\n",
       "      <td>...</td>\n",
       "      <td>0</td>\n",
       "      <td>0</td>\n",
       "      <td>0</td>\n",
       "      <td>0</td>\n",
       "      <td>0</td>\n",
       "      <td>0</td>\n",
       "      <td>0</td>\n",
       "      <td>0</td>\n",
       "      <td>0</td>\n",
       "      <td>1</td>\n",
       "    </tr>\n",
       "    <tr>\n",
       "      <th>2</th>\n",
       "      <td>2.0</td>\n",
       "      <td>1.0</td>\n",
       "      <td>1040</td>\n",
       "      <td>87.0</td>\n",
       "      <td>NaN</td>\n",
       "      <td>0</td>\n",
       "      <td>0</td>\n",
       "      <td>0</td>\n",
       "      <td>1970.0</td>\n",
       "      <td>7.0</td>\n",
       "      <td>...</td>\n",
       "      <td>0</td>\n",
       "      <td>1</td>\n",
       "      <td>0</td>\n",
       "      <td>0</td>\n",
       "      <td>0</td>\n",
       "      <td>0</td>\n",
       "      <td>0</td>\n",
       "      <td>0</td>\n",
       "      <td>0</td>\n",
       "      <td>1</td>\n",
       "    </tr>\n",
       "    <tr>\n",
       "      <th>3</th>\n",
       "      <td>2.0</td>\n",
       "      <td>2.0</td>\n",
       "      <td>1040</td>\n",
       "      <td>104.0</td>\n",
       "      <td>NaN</td>\n",
       "      <td>0</td>\n",
       "      <td>0</td>\n",
       "      <td>0</td>\n",
       "      <td>2018.0</td>\n",
       "      <td>21.0</td>\n",
       "      <td>...</td>\n",
       "      <td>0</td>\n",
       "      <td>1</td>\n",
       "      <td>0</td>\n",
       "      <td>0</td>\n",
       "      <td>0</td>\n",
       "      <td>0</td>\n",
       "      <td>0</td>\n",
       "      <td>0</td>\n",
       "      <td>0</td>\n",
       "      <td>1</td>\n",
       "    </tr>\n",
       "    <tr>\n",
       "      <th>4</th>\n",
       "      <td>1.0</td>\n",
       "      <td>1.0</td>\n",
       "      <td>1040</td>\n",
       "      <td>71.0</td>\n",
       "      <td>NaN</td>\n",
       "      <td>0</td>\n",
       "      <td>0</td>\n",
       "      <td>0</td>\n",
       "      <td>1906.0</td>\n",
       "      <td>3.0</td>\n",
       "      <td>...</td>\n",
       "      <td>0</td>\n",
       "      <td>1</td>\n",
       "      <td>0</td>\n",
       "      <td>0</td>\n",
       "      <td>0</td>\n",
       "      <td>0</td>\n",
       "      <td>0</td>\n",
       "      <td>0</td>\n",
       "      <td>0</td>\n",
       "      <td>1</td>\n",
       "    </tr>\n",
       "  </tbody>\n",
       "</table>\n",
       "<p>5 rows × 132 columns</p>\n",
       "</div>"
      ],
      "text/plain": [
       "   bedroomCount  bathroomCount  postCode  habitableSurface  roomCount  \\\n",
       "0           2.0            1.0      1040             100.0        NaN   \n",
       "1           4.0            2.0      1040             270.0       12.0   \n",
       "2           2.0            1.0      1040              87.0        NaN   \n",
       "3           2.0            2.0      1040             104.0        NaN   \n",
       "4           1.0            1.0      1040              71.0        NaN   \n",
       "\n",
       "   hasAttic  hasBasement  hasDiningRoom  buildingConstructionYear  floorCount  \\\n",
       "0         0            1              0                    2004.0         7.0   \n",
       "1         1            1              1                    1910.0         3.0   \n",
       "2         0            0              0                    1970.0         7.0   \n",
       "3         0            0              0                    2018.0        21.0   \n",
       "4         0            0              0                    1906.0         3.0   \n",
       "\n",
       "   ...  gardenOrientation_WEST  gardenOrientation_unknown  \\\n",
       "0  ...                       0                          1   \n",
       "1  ...                       0                          0   \n",
       "2  ...                       0                          1   \n",
       "3  ...                       0                          1   \n",
       "4  ...                       0                          1   \n",
       "\n",
       "   terraceOrientation_NORTH  terraceOrientation_NORTH_EAST  \\\n",
       "0                         0                              0   \n",
       "1                         0                              0   \n",
       "2                         0                              0   \n",
       "3                         0                              0   \n",
       "4                         0                              0   \n",
       "\n",
       "   terraceOrientation_NORTH_WEST  terraceOrientation_SOUTH  \\\n",
       "0                              0                         0   \n",
       "1                              0                         0   \n",
       "2                              0                         0   \n",
       "3                              0                         0   \n",
       "4                              0                         0   \n",
       "\n",
       "   terraceOrientation_SOUTH_EAST  terraceOrientation_SOUTH_WEST  \\\n",
       "0                              0                              0   \n",
       "1                              0                              0   \n",
       "2                              0                              0   \n",
       "3                              0                              0   \n",
       "4                              0                              0   \n",
       "\n",
       "   terraceOrientation_WEST  terraceOrientation_unknown  \n",
       "0                        0                           1  \n",
       "1                        0                           1  \n",
       "2                        0                           1  \n",
       "3                        0                           1  \n",
       "4                        0                           1  \n",
       "\n",
       "[5 rows x 132 columns]"
      ]
     },
     "execution_count": 21,
     "metadata": {},
     "output_type": "execute_result"
    }
   ],
   "source": [
    "# dummies to create new columns for the subtype etc. = True/False\n",
    "\n",
    "df = pd.get_dummies(df, columns=['type',\n",
    "                                 'subtype',\n",
    "                                 'province',\n",
    "                                 'buildingCondition',\n",
    "                                 'heatingType',\n",
    "                                 'kitchenType',\n",
    "                                 'floodZoneType',\n",
    "                                 'epcScore',\n",
    "                                 'gardenOrientation',\n",
    "                                 'terraceOrientation'\n",
    "                                 ], drop_first=True)\n",
    "\n",
    "# Change bool in integer \n",
    "bool_columns = df.select_dtypes(include='bool').columns\n",
    "df[bool_columns] = df[bool_columns].astype(int)\n",
    "\n",
    "df.head()"
   ]
  },
  {
   "cell_type": "code",
   "execution_count": 22,
   "metadata": {},
   "outputs": [
    {
     "name": "stdout",
     "output_type": "stream",
     "text": [
      "int64      119\n",
      "float64     13\n",
      "Name: count, dtype: int64\n"
     ]
    }
   ],
   "source": [
    "print (df.dtypes.value_counts()) "
   ]
  },
  {
   "cell_type": "markdown",
   "metadata": {},
   "source": [
    "### Remaining missing values (numbers)"
   ]
  },
  {
   "cell_type": "code",
   "execution_count": 23,
   "metadata": {},
   "outputs": [
    {
     "name": "stdout",
     "output_type": "stream",
     "text": [
      "price                        4.974679\n",
      "bedroomCount                 8.473627\n",
      "habitableSurface            15.659412\n",
      "bathroomCount               17.041821\n",
      "toiletCount                 31.448231\n",
      "buildingConstructionYear    38.899051\n",
      "landSurface                 50.800702\n",
      "floorCount                  53.283064\n",
      "terraceSurface              64.414498\n",
      "parkingCountIndoor          64.862444\n",
      "roomCount                   72.691528\n",
      "parkingCountOutdoor         77.198353\n",
      "gardenSurface               80.144836\n",
      "dtype: float64\n"
     ]
    }
   ],
   "source": [
    "# call all the columns with at least one NaN\n",
    "columns_with_na = df.columns[df.isna().any()]\n",
    "\n",
    "missing_values_report(df[columns_with_na]) "
   ]
  },
  {
   "cell_type": "markdown",
   "metadata": {},
   "source": [
    "### Delete unuseful data "
   ]
  },
  {
   "cell_type": "code",
   "execution_count": 24,
   "metadata": {},
   "outputs": [],
   "source": [
    "# as the price is the target, delete all lines when price is missing \n",
    "df = df[df['price'].notna()]"
   ]
  },
  {
   "cell_type": "code",
   "execution_count": 25,
   "metadata": {},
   "outputs": [],
   "source": [
    "# Under 35 % of missing values, replace by the median \n",
    "\n",
    "columns_to_fill_median = ['bedroomCount', 'habitableSurface', 'bathroomCount', 'toiletCount']\n",
    "for column in columns_to_fill_median: \n",
    "    df[column]=df[column].fillna(df[column].median()) "
   ]
  },
  {
   "cell_type": "code",
   "execution_count": 26,
   "metadata": {},
   "outputs": [],
   "source": [
    "# Above 35 % of missing values replace by -1 \n",
    "\n",
    "columns_to_fill_negative = ['buildingConstructionYear', 'landSurface', 'floorCount', 'terraceSurface', 'parkingCountIndoor', 'parkingCountOutdoor', 'gardenSurface','roomCount' ]\n",
    "for column in columns_to_fill_negative:\n",
    "    df[column]=df[column].fillna(-1)"
   ]
  },
  {
   "cell_type": "code",
   "execution_count": 27,
   "metadata": {},
   "outputs": [
    {
     "name": "stdout",
     "output_type": "stream",
     "text": [
      "Series([], dtype: float64)\n"
     ]
    }
   ],
   "source": [
    "# call all the columns with at least one NaN\n",
    "columns_with_na = df.columns[df.isna().any()]\n",
    "\n",
    "missing_values_report(df[columns_with_na]) "
   ]
  },
  {
   "cell_type": "code",
   "execution_count": 28,
   "metadata": {},
   "outputs": [
    {
     "name": "stderr",
     "output_type": "stream",
     "text": [
      "/var/folders/w2/c2k89knd73bgqn5ls5q1bkyw0000gn/T/ipykernel_19955/4238501193.py:3: PerformanceWarning: DataFrame is highly fragmented.  This is usually the result of calling `frame.insert` many times, which has poor performance.  Consider joining all columns at once using pd.concat(axis=1) instead. To get a de-fragmented frame, use `newframe = frame.copy()`\n",
      "  df['roomCount_missing'] = (df['roomCount'] == -1).astype(int)\n"
     ]
    }
   ],
   "source": [
    "# Tell the model -1 is a missing value for roomCount (because a lot of values missing) by creating a column roomCount_missing\n",
    "\n",
    "df['roomCount_missing'] = (df['roomCount'] == -1).astype(int)\n"
   ]
  },
  {
   "cell_type": "code",
   "execution_count": 29,
   "metadata": {},
   "outputs": [
    {
     "data": {
      "application/vnd.microsoft.datawrangler.viewer.v0+json": {
       "columns": [
        {
         "name": "index",
         "rawType": "int64",
         "type": "integer"
        },
        {
         "name": "roomCount",
         "rawType": "float64",
         "type": "float"
        },
        {
         "name": "roomCount_missing",
         "rawType": "int64",
         "type": "integer"
        }
       ],
       "conversionMethod": "pd.DataFrame",
       "ref": "70c386e5-199b-4753-a7e4-5391ecc8295a",
       "rows": [
        [
         "0",
         "-1.0",
         "1"
        ],
        [
         "1",
         "12.0",
         "0"
        ],
        [
         "2",
         "-1.0",
         "1"
        ],
        [
         "3",
         "-1.0",
         "1"
        ],
        [
         "4",
         "-1.0",
         "1"
        ],
        [
         "5",
         "-1.0",
         "1"
        ],
        [
         "6",
         "-1.0",
         "1"
        ],
        [
         "7",
         "-1.0",
         "1"
        ],
        [
         "8",
         "-1.0",
         "1"
        ],
        [
         "9",
         "-1.0",
         "1"
        ]
       ],
       "shape": {
        "columns": 2,
        "rows": 10
       }
      },
      "text/html": [
       "<div>\n",
       "<style scoped>\n",
       "    .dataframe tbody tr th:only-of-type {\n",
       "        vertical-align: middle;\n",
       "    }\n",
       "\n",
       "    .dataframe tbody tr th {\n",
       "        vertical-align: top;\n",
       "    }\n",
       "\n",
       "    .dataframe thead th {\n",
       "        text-align: right;\n",
       "    }\n",
       "</style>\n",
       "<table border=\"1\" class=\"dataframe\">\n",
       "  <thead>\n",
       "    <tr style=\"text-align: right;\">\n",
       "      <th></th>\n",
       "      <th>roomCount</th>\n",
       "      <th>roomCount_missing</th>\n",
       "    </tr>\n",
       "  </thead>\n",
       "  <tbody>\n",
       "    <tr>\n",
       "      <th>0</th>\n",
       "      <td>-1.0</td>\n",
       "      <td>1</td>\n",
       "    </tr>\n",
       "    <tr>\n",
       "      <th>1</th>\n",
       "      <td>12.0</td>\n",
       "      <td>0</td>\n",
       "    </tr>\n",
       "    <tr>\n",
       "      <th>2</th>\n",
       "      <td>-1.0</td>\n",
       "      <td>1</td>\n",
       "    </tr>\n",
       "    <tr>\n",
       "      <th>3</th>\n",
       "      <td>-1.0</td>\n",
       "      <td>1</td>\n",
       "    </tr>\n",
       "    <tr>\n",
       "      <th>4</th>\n",
       "      <td>-1.0</td>\n",
       "      <td>1</td>\n",
       "    </tr>\n",
       "    <tr>\n",
       "      <th>5</th>\n",
       "      <td>-1.0</td>\n",
       "      <td>1</td>\n",
       "    </tr>\n",
       "    <tr>\n",
       "      <th>6</th>\n",
       "      <td>-1.0</td>\n",
       "      <td>1</td>\n",
       "    </tr>\n",
       "    <tr>\n",
       "      <th>7</th>\n",
       "      <td>-1.0</td>\n",
       "      <td>1</td>\n",
       "    </tr>\n",
       "    <tr>\n",
       "      <th>8</th>\n",
       "      <td>-1.0</td>\n",
       "      <td>1</td>\n",
       "    </tr>\n",
       "    <tr>\n",
       "      <th>9</th>\n",
       "      <td>-1.0</td>\n",
       "      <td>1</td>\n",
       "    </tr>\n",
       "  </tbody>\n",
       "</table>\n",
       "</div>"
      ],
      "text/plain": [
       "   roomCount  roomCount_missing\n",
       "0       -1.0                  1\n",
       "1       12.0                  0\n",
       "2       -1.0                  1\n",
       "3       -1.0                  1\n",
       "4       -1.0                  1\n",
       "5       -1.0                  1\n",
       "6       -1.0                  1\n",
       "7       -1.0                  1\n",
       "8       -1.0                  1\n",
       "9       -1.0                  1"
      ]
     },
     "execution_count": 29,
     "metadata": {},
     "output_type": "execute_result"
    }
   ],
   "source": [
    "df[['roomCount', 'roomCount_missing']].head(10)"
   ]
  },
  {
   "cell_type": "code",
   "execution_count": 30,
   "metadata": {},
   "outputs": [
    {
     "data": {
      "application/vnd.microsoft.datawrangler.viewer.v0+json": {
       "columns": [
        {
         "name": "index",
         "rawType": "int64",
         "type": "integer"
        },
        {
         "name": "bedroomCount",
         "rawType": "float64",
         "type": "float"
        },
        {
         "name": "bathroomCount",
         "rawType": "float64",
         "type": "float"
        },
        {
         "name": "postCode",
         "rawType": "int64",
         "type": "integer"
        },
        {
         "name": "habitableSurface",
         "rawType": "float64",
         "type": "float"
        },
        {
         "name": "roomCount",
         "rawType": "float64",
         "type": "float"
        },
        {
         "name": "hasAttic",
         "rawType": "int64",
         "type": "integer"
        },
        {
         "name": "hasBasement",
         "rawType": "int64",
         "type": "integer"
        },
        {
         "name": "hasDiningRoom",
         "rawType": "int64",
         "type": "integer"
        },
        {
         "name": "buildingConstructionYear",
         "rawType": "float64",
         "type": "float"
        },
        {
         "name": "floorCount",
         "rawType": "float64",
         "type": "float"
        },
        {
         "name": "hasLift",
         "rawType": "int64",
         "type": "integer"
        },
        {
         "name": "hasHeatPump",
         "rawType": "int64",
         "type": "integer"
        },
        {
         "name": "hasPhotovoltaicPanels",
         "rawType": "int64",
         "type": "integer"
        },
        {
         "name": "hasThermicPanels",
         "rawType": "int64",
         "type": "integer"
        },
        {
         "name": "landSurface",
         "rawType": "float64",
         "type": "float"
        },
        {
         "name": "hasLivingRoom",
         "rawType": "int64",
         "type": "integer"
        },
        {
         "name": "hasGarden",
         "rawType": "int64",
         "type": "integer"
        },
        {
         "name": "gardenSurface",
         "rawType": "float64",
         "type": "float"
        },
        {
         "name": "parkingCountIndoor",
         "rawType": "float64",
         "type": "float"
        },
        {
         "name": "parkingCountOutdoor",
         "rawType": "float64",
         "type": "float"
        },
        {
         "name": "hasAirConditioning",
         "rawType": "int64",
         "type": "integer"
        },
        {
         "name": "hasArmoredDoor",
         "rawType": "int64",
         "type": "integer"
        },
        {
         "name": "toiletCount",
         "rawType": "float64",
         "type": "float"
        },
        {
         "name": "hasSwimmingPool",
         "rawType": "int64",
         "type": "integer"
        },
        {
         "name": "hasFireplace",
         "rawType": "int64",
         "type": "integer"
        },
        {
         "name": "hasTerrace",
         "rawType": "int64",
         "type": "integer"
        },
        {
         "name": "terraceSurface",
         "rawType": "float64",
         "type": "float"
        },
        {
         "name": "price",
         "rawType": "float64",
         "type": "float"
        },
        {
         "name": "type_APARTMENT_GROUP",
         "rawType": "int64",
         "type": "integer"
        },
        {
         "name": "type_HOUSE",
         "rawType": "int64",
         "type": "integer"
        },
        {
         "name": "type_HOUSE_GROUP",
         "rawType": "int64",
         "type": "integer"
        },
        {
         "name": "subtype_APARTMENT_BLOCK",
         "rawType": "int64",
         "type": "integer"
        },
        {
         "name": "subtype_APARTMENT_GROUP",
         "rawType": "int64",
         "type": "integer"
        },
        {
         "name": "subtype_BUNGALOW",
         "rawType": "int64",
         "type": "integer"
        },
        {
         "name": "subtype_CASTLE",
         "rawType": "int64",
         "type": "integer"
        },
        {
         "name": "subtype_CHALET",
         "rawType": "int64",
         "type": "integer"
        },
        {
         "name": "subtype_COUNTRY_COTTAGE",
         "rawType": "int64",
         "type": "integer"
        },
        {
         "name": "subtype_DUPLEX",
         "rawType": "int64",
         "type": "integer"
        },
        {
         "name": "subtype_EXCEPTIONAL_PROPERTY",
         "rawType": "int64",
         "type": "integer"
        },
        {
         "name": "subtype_FARMHOUSE",
         "rawType": "int64",
         "type": "integer"
        },
        {
         "name": "subtype_FLAT_STUDIO",
         "rawType": "int64",
         "type": "integer"
        },
        {
         "name": "subtype_GROUND_FLOOR",
         "rawType": "int64",
         "type": "integer"
        },
        {
         "name": "subtype_HOUSE",
         "rawType": "int64",
         "type": "integer"
        },
        {
         "name": "subtype_HOUSE_GROUP",
         "rawType": "int64",
         "type": "integer"
        },
        {
         "name": "subtype_KOT",
         "rawType": "int64",
         "type": "integer"
        },
        {
         "name": "subtype_LOFT",
         "rawType": "int64",
         "type": "integer"
        },
        {
         "name": "subtype_MANOR_HOUSE",
         "rawType": "int64",
         "type": "integer"
        },
        {
         "name": "subtype_MANSION",
         "rawType": "int64",
         "type": "integer"
        },
        {
         "name": "subtype_MIXED_USE_BUILDING",
         "rawType": "int64",
         "type": "integer"
        },
        {
         "name": "subtype_OTHER_PROPERTY",
         "rawType": "int64",
         "type": "integer"
        },
        {
         "name": "subtype_PAVILION",
         "rawType": "int64",
         "type": "integer"
        },
        {
         "name": "subtype_PENTHOUSE",
         "rawType": "int64",
         "type": "integer"
        },
        {
         "name": "subtype_SERVICE_FLAT",
         "rawType": "int64",
         "type": "integer"
        },
        {
         "name": "subtype_TOWN_HOUSE",
         "rawType": "int64",
         "type": "integer"
        },
        {
         "name": "subtype_TRIPLEX",
         "rawType": "int64",
         "type": "integer"
        },
        {
         "name": "subtype_VILLA",
         "rawType": "int64",
         "type": "integer"
        },
        {
         "name": "province_Brussels",
         "rawType": "int64",
         "type": "integer"
        },
        {
         "name": "province_East Flanders",
         "rawType": "int64",
         "type": "integer"
        },
        {
         "name": "province_Flemish Brabant",
         "rawType": "int64",
         "type": "integer"
        },
        {
         "name": "province_Hainaut",
         "rawType": "int64",
         "type": "integer"
        },
        {
         "name": "province_Limburg",
         "rawType": "int64",
         "type": "integer"
        },
        {
         "name": "province_Liège",
         "rawType": "int64",
         "type": "integer"
        },
        {
         "name": "province_Luxembourg",
         "rawType": "int64",
         "type": "integer"
        },
        {
         "name": "province_Namur",
         "rawType": "int64",
         "type": "integer"
        },
        {
         "name": "province_Walloon Brabant",
         "rawType": "int64",
         "type": "integer"
        },
        {
         "name": "province_West Flanders",
         "rawType": "int64",
         "type": "integer"
        },
        {
         "name": "buildingCondition_GOOD",
         "rawType": "int64",
         "type": "integer"
        },
        {
         "name": "buildingCondition_JUST_RENOVATED",
         "rawType": "int64",
         "type": "integer"
        },
        {
         "name": "buildingCondition_TO_BE_DONE_UP",
         "rawType": "int64",
         "type": "integer"
        },
        {
         "name": "buildingCondition_TO_RENOVATE",
         "rawType": "int64",
         "type": "integer"
        },
        {
         "name": "buildingCondition_TO_RESTORE",
         "rawType": "int64",
         "type": "integer"
        },
        {
         "name": "buildingCondition_unknown",
         "rawType": "int64",
         "type": "integer"
        },
        {
         "name": "heatingType_ELECTRIC",
         "rawType": "int64",
         "type": "integer"
        },
        {
         "name": "heatingType_FUELOIL",
         "rawType": "int64",
         "type": "integer"
        },
        {
         "name": "heatingType_GAS",
         "rawType": "int64",
         "type": "integer"
        },
        {
         "name": "heatingType_PELLET",
         "rawType": "int64",
         "type": "integer"
        },
        {
         "name": "heatingType_SOLAR",
         "rawType": "int64",
         "type": "integer"
        },
        {
         "name": "heatingType_WOOD",
         "rawType": "int64",
         "type": "integer"
        },
        {
         "name": "heatingType_unknown",
         "rawType": "int64",
         "type": "integer"
        },
        {
         "name": "kitchenType_INSTALLED",
         "rawType": "int64",
         "type": "integer"
        },
        {
         "name": "kitchenType_NOT_INSTALLED",
         "rawType": "int64",
         "type": "integer"
        },
        {
         "name": "kitchenType_SEMI_EQUIPPED",
         "rawType": "int64",
         "type": "integer"
        },
        {
         "name": "kitchenType_USA_HYPER_EQUIPPED",
         "rawType": "int64",
         "type": "integer"
        },
        {
         "name": "kitchenType_USA_INSTALLED",
         "rawType": "int64",
         "type": "integer"
        },
        {
         "name": "kitchenType_USA_SEMI_EQUIPPED",
         "rawType": "int64",
         "type": "integer"
        },
        {
         "name": "kitchenType_USA_UNINSTALLED",
         "rawType": "int64",
         "type": "integer"
        },
        {
         "name": "kitchenType_unknown",
         "rawType": "int64",
         "type": "integer"
        },
        {
         "name": "floodZoneType_CIRCUMSCRIBED_WATERSIDE_ZONE",
         "rawType": "int64",
         "type": "integer"
        },
        {
         "name": "floodZoneType_NON_FLOOD_ZONE",
         "rawType": "int64",
         "type": "integer"
        },
        {
         "name": "floodZoneType_POSSIBLE_FLOOD_ZONE",
         "rawType": "int64",
         "type": "integer"
        },
        {
         "name": "floodZoneType_POSSIBLE_N_CIRCUMSCRIBED_FLOOD_ZONE",
         "rawType": "int64",
         "type": "integer"
        },
        {
         "name": "floodZoneType_POSSIBLE_N_CIRCUMSCRIBED_WATERSIDE_ZONE",
         "rawType": "int64",
         "type": "integer"
        },
        {
         "name": "floodZoneType_RECOGNIZED_FLOOD_ZONE",
         "rawType": "int64",
         "type": "integer"
        },
        {
         "name": "floodZoneType_RECOGNIZED_N_CIRCUMSCRIBED_FLOOD_ZONE",
         "rawType": "int64",
         "type": "integer"
        },
        {
         "name": "floodZoneType_RECOGNIZED_N_CIRCUMSCRIBED_WATERSIDE_FLOOD_ZONE",
         "rawType": "int64",
         "type": "integer"
        },
        {
         "name": "floodZoneType_unknown",
         "rawType": "int64",
         "type": "integer"
        },
        {
         "name": "epcScore_A+",
         "rawType": "int64",
         "type": "integer"
        },
        {
         "name": "epcScore_A++",
         "rawType": "int64",
         "type": "integer"
        },
        {
         "name": "epcScore_B",
         "rawType": "int64",
         "type": "integer"
        },
        {
         "name": "epcScore_C",
         "rawType": "int64",
         "type": "integer"
        },
        {
         "name": "epcScore_C_A",
         "rawType": "int64",
         "type": "integer"
        },
        {
         "name": "epcScore_C_B",
         "rawType": "int64",
         "type": "integer"
        },
        {
         "name": "epcScore_D",
         "rawType": "int64",
         "type": "integer"
        },
        {
         "name": "epcScore_D_C",
         "rawType": "int64",
         "type": "integer"
        },
        {
         "name": "epcScore_E",
         "rawType": "int64",
         "type": "integer"
        },
        {
         "name": "epcScore_E_C",
         "rawType": "int64",
         "type": "integer"
        },
        {
         "name": "epcScore_E_D",
         "rawType": "int64",
         "type": "integer"
        },
        {
         "name": "epcScore_F",
         "rawType": "int64",
         "type": "integer"
        },
        {
         "name": "epcScore_F_C",
         "rawType": "int64",
         "type": "integer"
        },
        {
         "name": "epcScore_F_D",
         "rawType": "int64",
         "type": "integer"
        },
        {
         "name": "epcScore_G",
         "rawType": "int64",
         "type": "integer"
        },
        {
         "name": "epcScore_G_C",
         "rawType": "int64",
         "type": "integer"
        },
        {
         "name": "epcScore_G_E",
         "rawType": "int64",
         "type": "integer"
        },
        {
         "name": "epcScore_G_F",
         "rawType": "int64",
         "type": "integer"
        },
        {
         "name": "epcScore_X",
         "rawType": "int64",
         "type": "integer"
        },
        {
         "name": "epcScore_unknown",
         "rawType": "int64",
         "type": "integer"
        },
        {
         "name": "gardenOrientation_NORTH",
         "rawType": "int64",
         "type": "integer"
        },
        {
         "name": "gardenOrientation_NORTH_EAST",
         "rawType": "int64",
         "type": "integer"
        },
        {
         "name": "gardenOrientation_NORTH_WEST",
         "rawType": "int64",
         "type": "integer"
        },
        {
         "name": "gardenOrientation_SOUTH",
         "rawType": "int64",
         "type": "integer"
        },
        {
         "name": "gardenOrientation_SOUTH_EAST",
         "rawType": "int64",
         "type": "integer"
        },
        {
         "name": "gardenOrientation_SOUTH_WEST",
         "rawType": "int64",
         "type": "integer"
        },
        {
         "name": "gardenOrientation_WEST",
         "rawType": "int64",
         "type": "integer"
        },
        {
         "name": "gardenOrientation_unknown",
         "rawType": "int64",
         "type": "integer"
        },
        {
         "name": "terraceOrientation_NORTH",
         "rawType": "int64",
         "type": "integer"
        },
        {
         "name": "terraceOrientation_NORTH_EAST",
         "rawType": "int64",
         "type": "integer"
        },
        {
         "name": "terraceOrientation_NORTH_WEST",
         "rawType": "int64",
         "type": "integer"
        },
        {
         "name": "terraceOrientation_SOUTH",
         "rawType": "int64",
         "type": "integer"
        },
        {
         "name": "terraceOrientation_SOUTH_EAST",
         "rawType": "int64",
         "type": "integer"
        },
        {
         "name": "terraceOrientation_SOUTH_WEST",
         "rawType": "int64",
         "type": "integer"
        },
        {
         "name": "terraceOrientation_WEST",
         "rawType": "int64",
         "type": "integer"
        },
        {
         "name": "terraceOrientation_unknown",
         "rawType": "int64",
         "type": "integer"
        },
        {
         "name": "roomCount_missing",
         "rawType": "int64",
         "type": "integer"
        }
       ],
       "conversionMethod": "pd.DataFrame",
       "ref": "7f8290eb-693f-4334-a6e0-91748da3194b",
       "rows": [
        [
         "0",
         "2.0",
         "1.0",
         "1040",
         "100.0",
         "-1.0",
         "0",
         "1",
         "0",
         "2004.0",
         "7.0",
         "1",
         "0",
         "0",
         "0",
         "-1.0",
         "1",
         "0",
         "-1.0",
         "1.0",
         "-1.0",
         "0",
         "0",
         "1.0",
         "0",
         "0",
         "1",
         "7.0",
         "399000.0",
         "0",
         "0",
         "0",
         "0",
         "0",
         "0",
         "0",
         "0",
         "0",
         "0",
         "0",
         "0",
         "0",
         "0",
         "0",
         "0",
         "0",
         "0",
         "0",
         "0",
         "0",
         "0",
         "0",
         "0",
         "0",
         "0",
         "0",
         "0",
         "1",
         "0",
         "0",
         "0",
         "0",
         "0",
         "0",
         "0",
         "0",
         "0",
         "1",
         "0",
         "0",
         "0",
         "0",
         "0",
         "0",
         "0",
         "1",
         "0",
         "0",
         "0",
         "0",
         "0",
         "0",
         "1",
         "0",
         "0",
         "0",
         "0",
         "0",
         "0",
         "1",
         "0",
         "0",
         "0",
         "0",
         "0",
         "0",
         "0",
         "0",
         "0",
         "0",
         "1",
         "0",
         "0",
         "0",
         "0",
         "0",
         "0",
         "0",
         "0",
         "0",
         "0",
         "0",
         "0",
         "0",
         "0",
         "0",
         "0",
         "0",
         "0",
         "0",
         "0",
         "0",
         "0",
         "0",
         "1",
         "0",
         "0",
         "0",
         "0",
         "0",
         "0",
         "0",
         "1",
         "1"
        ],
        [
         "1",
         "4.0",
         "2.0",
         "1040",
         "270.0",
         "12.0",
         "1",
         "1",
         "1",
         "1910.0",
         "3.0",
         "0",
         "0",
         "0",
         "0",
         "209.0",
         "1",
         "1",
         "100.0",
         "-1.0",
         "-1.0",
         "0",
         "0",
         "3.0",
         "0",
         "0",
         "1",
         "1.0",
         "895000.0",
         "0",
         "1",
         "0",
         "0",
         "0",
         "0",
         "0",
         "0",
         "0",
         "0",
         "0",
         "0",
         "0",
         "0",
         "1",
         "0",
         "0",
         "0",
         "0",
         "0",
         "0",
         "0",
         "0",
         "0",
         "0",
         "0",
         "0",
         "0",
         "1",
         "0",
         "0",
         "0",
         "0",
         "0",
         "0",
         "0",
         "0",
         "0",
         "0",
         "0",
         "1",
         "0",
         "0",
         "0",
         "0",
         "1",
         "0",
         "0",
         "0",
         "0",
         "0",
         "1",
         "0",
         "0",
         "0",
         "0",
         "0",
         "0",
         "0",
         "0",
         "1",
         "0",
         "0",
         "0",
         "0",
         "0",
         "0",
         "0",
         "0",
         "0",
         "0",
         "0",
         "0",
         "0",
         "0",
         "0",
         "1",
         "0",
         "0",
         "0",
         "0",
         "0",
         "0",
         "0",
         "0",
         "0",
         "0",
         "0",
         "0",
         "0",
         "1",
         "0",
         "0",
         "0",
         "0",
         "0",
         "0",
         "0",
         "0",
         "0",
         "0",
         "0",
         "0",
         "1",
         "0"
        ],
        [
         "2",
         "2.0",
         "1.0",
         "1040",
         "87.0",
         "-1.0",
         "0",
         "0",
         "0",
         "1970.0",
         "7.0",
         "1",
         "0",
         "0",
         "0",
         "-1.0",
         "1",
         "0",
         "-1.0",
         "-1.0",
         "-1.0",
         "0",
         "0",
         "1.0",
         "0",
         "0",
         "1",
         "2.0",
         "465000.0",
         "0",
         "0",
         "0",
         "0",
         "0",
         "0",
         "0",
         "0",
         "0",
         "0",
         "0",
         "0",
         "0",
         "0",
         "0",
         "0",
         "0",
         "0",
         "0",
         "0",
         "0",
         "0",
         "0",
         "0",
         "0",
         "0",
         "0",
         "0",
         "1",
         "0",
         "0",
         "0",
         "0",
         "0",
         "0",
         "0",
         "0",
         "0",
         "0",
         "0",
         "0",
         "0",
         "0",
         "0",
         "0",
         "1",
         "0",
         "0",
         "0",
         "0",
         "0",
         "0",
         "0",
         "0",
         "0",
         "0",
         "0",
         "0",
         "0",
         "0",
         "0",
         "0",
         "0",
         "0",
         "0",
         "0",
         "0",
         "1",
         "0",
         "0",
         "0",
         "0",
         "0",
         "0",
         "0",
         "0",
         "0",
         "0",
         "0",
         "1",
         "0",
         "0",
         "0",
         "0",
         "0",
         "0",
         "0",
         "0",
         "0",
         "0",
         "0",
         "0",
         "0",
         "0",
         "0",
         "1",
         "0",
         "0",
         "0",
         "0",
         "0",
         "0",
         "0",
         "1",
         "1"
        ],
        [
         "3",
         "2.0",
         "2.0",
         "1040",
         "104.0",
         "-1.0",
         "0",
         "0",
         "0",
         "2018.0",
         "21.0",
         "1",
         "0",
         "0",
         "0",
         "-1.0",
         "1",
         "0",
         "-1.0",
         "-1.0",
         "-1.0",
         "0",
         "1",
         "2.0",
         "0",
         "0",
         "1",
         "3.0",
         "590000.0",
         "0",
         "0",
         "0",
         "0",
         "0",
         "0",
         "0",
         "0",
         "0",
         "0",
         "0",
         "0",
         "0",
         "0",
         "0",
         "0",
         "0",
         "0",
         "0",
         "0",
         "0",
         "0",
         "0",
         "0",
         "0",
         "0",
         "0",
         "0",
         "1",
         "0",
         "0",
         "0",
         "0",
         "0",
         "0",
         "0",
         "0",
         "0",
         "0",
         "0",
         "0",
         "0",
         "0",
         "0",
         "0",
         "0",
         "1",
         "0",
         "0",
         "0",
         "0",
         "0",
         "0",
         "0",
         "0",
         "0",
         "0",
         "0",
         "0",
         "0",
         "0",
         "0",
         "0",
         "0",
         "1",
         "0",
         "0",
         "0",
         "0",
         "0",
         "1",
         "0",
         "0",
         "0",
         "0",
         "0",
         "0",
         "0",
         "0",
         "0",
         "0",
         "0",
         "0",
         "0",
         "0",
         "0",
         "0",
         "0",
         "0",
         "0",
         "0",
         "0",
         "0",
         "0",
         "0",
         "1",
         "0",
         "0",
         "0",
         "0",
         "0",
         "0",
         "0",
         "1",
         "1"
        ],
        [
         "4",
         "1.0",
         "1.0",
         "1040",
         "71.0",
         "-1.0",
         "0",
         "0",
         "0",
         "1906.0",
         "3.0",
         "0",
         "0",
         "0",
         "0",
         "-1.0",
         "0",
         "0",
         "-1.0",
         "-1.0",
         "-1.0",
         "0",
         "0",
         "1.0",
         "0",
         "0",
         "0",
         "-1.0",
         "289000.0",
         "0",
         "0",
         "0",
         "0",
         "0",
         "0",
         "0",
         "0",
         "0",
         "0",
         "0",
         "0",
         "1",
         "0",
         "0",
         "0",
         "0",
         "0",
         "0",
         "0",
         "0",
         "0",
         "0",
         "0",
         "0",
         "0",
         "0",
         "0",
         "1",
         "0",
         "0",
         "0",
         "0",
         "0",
         "0",
         "0",
         "0",
         "0",
         "0",
         "0",
         "0",
         "0",
         "0",
         "0",
         "0",
         "0",
         "1",
         "0",
         "0",
         "0",
         "0",
         "1",
         "0",
         "0",
         "0",
         "0",
         "0",
         "0",
         "0",
         "0",
         "1",
         "0",
         "0",
         "0",
         "0",
         "0",
         "0",
         "0",
         "0",
         "0",
         "0",
         "0",
         "0",
         "0",
         "0",
         "0",
         "1",
         "0",
         "0",
         "0",
         "0",
         "0",
         "0",
         "0",
         "0",
         "0",
         "0",
         "0",
         "0",
         "0",
         "0",
         "0",
         "0",
         "0",
         "0",
         "1",
         "0",
         "0",
         "0",
         "0",
         "0",
         "0",
         "0",
         "1",
         "1"
        ]
       ],
       "shape": {
        "columns": 133,
        "rows": 5
       }
      },
      "text/html": [
       "<div>\n",
       "<style scoped>\n",
       "    .dataframe tbody tr th:only-of-type {\n",
       "        vertical-align: middle;\n",
       "    }\n",
       "\n",
       "    .dataframe tbody tr th {\n",
       "        vertical-align: top;\n",
       "    }\n",
       "\n",
       "    .dataframe thead th {\n",
       "        text-align: right;\n",
       "    }\n",
       "</style>\n",
       "<table border=\"1\" class=\"dataframe\">\n",
       "  <thead>\n",
       "    <tr style=\"text-align: right;\">\n",
       "      <th></th>\n",
       "      <th>bedroomCount</th>\n",
       "      <th>bathroomCount</th>\n",
       "      <th>postCode</th>\n",
       "      <th>habitableSurface</th>\n",
       "      <th>roomCount</th>\n",
       "      <th>hasAttic</th>\n",
       "      <th>hasBasement</th>\n",
       "      <th>hasDiningRoom</th>\n",
       "      <th>buildingConstructionYear</th>\n",
       "      <th>floorCount</th>\n",
       "      <th>...</th>\n",
       "      <th>gardenOrientation_unknown</th>\n",
       "      <th>terraceOrientation_NORTH</th>\n",
       "      <th>terraceOrientation_NORTH_EAST</th>\n",
       "      <th>terraceOrientation_NORTH_WEST</th>\n",
       "      <th>terraceOrientation_SOUTH</th>\n",
       "      <th>terraceOrientation_SOUTH_EAST</th>\n",
       "      <th>terraceOrientation_SOUTH_WEST</th>\n",
       "      <th>terraceOrientation_WEST</th>\n",
       "      <th>terraceOrientation_unknown</th>\n",
       "      <th>roomCount_missing</th>\n",
       "    </tr>\n",
       "  </thead>\n",
       "  <tbody>\n",
       "    <tr>\n",
       "      <th>0</th>\n",
       "      <td>2.0</td>\n",
       "      <td>1.0</td>\n",
       "      <td>1040</td>\n",
       "      <td>100.0</td>\n",
       "      <td>-1.0</td>\n",
       "      <td>0</td>\n",
       "      <td>1</td>\n",
       "      <td>0</td>\n",
       "      <td>2004.0</td>\n",
       "      <td>7.0</td>\n",
       "      <td>...</td>\n",
       "      <td>1</td>\n",
       "      <td>0</td>\n",
       "      <td>0</td>\n",
       "      <td>0</td>\n",
       "      <td>0</td>\n",
       "      <td>0</td>\n",
       "      <td>0</td>\n",
       "      <td>0</td>\n",
       "      <td>1</td>\n",
       "      <td>1</td>\n",
       "    </tr>\n",
       "    <tr>\n",
       "      <th>1</th>\n",
       "      <td>4.0</td>\n",
       "      <td>2.0</td>\n",
       "      <td>1040</td>\n",
       "      <td>270.0</td>\n",
       "      <td>12.0</td>\n",
       "      <td>1</td>\n",
       "      <td>1</td>\n",
       "      <td>1</td>\n",
       "      <td>1910.0</td>\n",
       "      <td>3.0</td>\n",
       "      <td>...</td>\n",
       "      <td>0</td>\n",
       "      <td>0</td>\n",
       "      <td>0</td>\n",
       "      <td>0</td>\n",
       "      <td>0</td>\n",
       "      <td>0</td>\n",
       "      <td>0</td>\n",
       "      <td>0</td>\n",
       "      <td>1</td>\n",
       "      <td>0</td>\n",
       "    </tr>\n",
       "    <tr>\n",
       "      <th>2</th>\n",
       "      <td>2.0</td>\n",
       "      <td>1.0</td>\n",
       "      <td>1040</td>\n",
       "      <td>87.0</td>\n",
       "      <td>-1.0</td>\n",
       "      <td>0</td>\n",
       "      <td>0</td>\n",
       "      <td>0</td>\n",
       "      <td>1970.0</td>\n",
       "      <td>7.0</td>\n",
       "      <td>...</td>\n",
       "      <td>1</td>\n",
       "      <td>0</td>\n",
       "      <td>0</td>\n",
       "      <td>0</td>\n",
       "      <td>0</td>\n",
       "      <td>0</td>\n",
       "      <td>0</td>\n",
       "      <td>0</td>\n",
       "      <td>1</td>\n",
       "      <td>1</td>\n",
       "    </tr>\n",
       "    <tr>\n",
       "      <th>3</th>\n",
       "      <td>2.0</td>\n",
       "      <td>2.0</td>\n",
       "      <td>1040</td>\n",
       "      <td>104.0</td>\n",
       "      <td>-1.0</td>\n",
       "      <td>0</td>\n",
       "      <td>0</td>\n",
       "      <td>0</td>\n",
       "      <td>2018.0</td>\n",
       "      <td>21.0</td>\n",
       "      <td>...</td>\n",
       "      <td>1</td>\n",
       "      <td>0</td>\n",
       "      <td>0</td>\n",
       "      <td>0</td>\n",
       "      <td>0</td>\n",
       "      <td>0</td>\n",
       "      <td>0</td>\n",
       "      <td>0</td>\n",
       "      <td>1</td>\n",
       "      <td>1</td>\n",
       "    </tr>\n",
       "    <tr>\n",
       "      <th>4</th>\n",
       "      <td>1.0</td>\n",
       "      <td>1.0</td>\n",
       "      <td>1040</td>\n",
       "      <td>71.0</td>\n",
       "      <td>-1.0</td>\n",
       "      <td>0</td>\n",
       "      <td>0</td>\n",
       "      <td>0</td>\n",
       "      <td>1906.0</td>\n",
       "      <td>3.0</td>\n",
       "      <td>...</td>\n",
       "      <td>1</td>\n",
       "      <td>0</td>\n",
       "      <td>0</td>\n",
       "      <td>0</td>\n",
       "      <td>0</td>\n",
       "      <td>0</td>\n",
       "      <td>0</td>\n",
       "      <td>0</td>\n",
       "      <td>1</td>\n",
       "      <td>1</td>\n",
       "    </tr>\n",
       "  </tbody>\n",
       "</table>\n",
       "<p>5 rows × 133 columns</p>\n",
       "</div>"
      ],
      "text/plain": [
       "   bedroomCount  bathroomCount  postCode  habitableSurface  roomCount  \\\n",
       "0           2.0            1.0      1040             100.0       -1.0   \n",
       "1           4.0            2.0      1040             270.0       12.0   \n",
       "2           2.0            1.0      1040              87.0       -1.0   \n",
       "3           2.0            2.0      1040             104.0       -1.0   \n",
       "4           1.0            1.0      1040              71.0       -1.0   \n",
       "\n",
       "   hasAttic  hasBasement  hasDiningRoom  buildingConstructionYear  floorCount  \\\n",
       "0         0            1              0                    2004.0         7.0   \n",
       "1         1            1              1                    1910.0         3.0   \n",
       "2         0            0              0                    1970.0         7.0   \n",
       "3         0            0              0                    2018.0        21.0   \n",
       "4         0            0              0                    1906.0         3.0   \n",
       "\n",
       "   ...  gardenOrientation_unknown  terraceOrientation_NORTH  \\\n",
       "0  ...                          1                         0   \n",
       "1  ...                          0                         0   \n",
       "2  ...                          1                         0   \n",
       "3  ...                          1                         0   \n",
       "4  ...                          1                         0   \n",
       "\n",
       "   terraceOrientation_NORTH_EAST  terraceOrientation_NORTH_WEST  \\\n",
       "0                              0                              0   \n",
       "1                              0                              0   \n",
       "2                              0                              0   \n",
       "3                              0                              0   \n",
       "4                              0                              0   \n",
       "\n",
       "   terraceOrientation_SOUTH  terraceOrientation_SOUTH_EAST  \\\n",
       "0                         0                              0   \n",
       "1                         0                              0   \n",
       "2                         0                              0   \n",
       "3                         0                              0   \n",
       "4                         0                              0   \n",
       "\n",
       "   terraceOrientation_SOUTH_WEST  terraceOrientation_WEST  \\\n",
       "0                              0                        0   \n",
       "1                              0                        0   \n",
       "2                              0                        0   \n",
       "3                              0                        0   \n",
       "4                              0                        0   \n",
       "\n",
       "   terraceOrientation_unknown  roomCount_missing  \n",
       "0                           1                  1  \n",
       "1                           1                  0  \n",
       "2                           1                  1  \n",
       "3                           1                  1  \n",
       "4                           1                  1  \n",
       "\n",
       "[5 rows x 133 columns]"
      ]
     },
     "execution_count": 30,
     "metadata": {},
     "output_type": "execute_result"
    }
   ],
   "source": [
    "df.head()"
   ]
  },
  {
   "cell_type": "markdown",
   "metadata": {},
   "source": [
    "#### Remove outliers "
   ]
  },
  {
   "cell_type": "code",
   "execution_count": 31,
   "metadata": {},
   "outputs": [
    {
     "data": {
      "image/png": "[encoded data removed]",
      "text/plain": [
       "<Figure size 1000x200 with 1 Axes>"
      ]
     },
     "metadata": {},
     "output_type": "display_data"
    }
   ],
   "source": [
    "# On price variable \n",
    "plt.figure(figsize=(10,2))\n",
    "sns.boxplot(x=df['price'])\n",
    "plt.title(\"Outliers on price variable\")\n",
    "plt.xlabel(\"Price in euros\")\n",
    "plt.show()"
   ]
  },
  {
   "cell_type": "code",
   "execution_count": 32,
   "metadata": {},
   "outputs": [
    {
     "data": {
      "image/png": "[encoded data removed]",
      "text/plain": [
       "<Figure size 1000x200 with 1 Axes>"
      ]
     },
     "metadata": {},
     "output_type": "display_data"
    }
   ],
   "source": [
    "# On habitable surface variable \n",
    "plt.figure(figsize=(10,2))\n",
    "sns.boxplot(x=df['habitableSurface'])\n",
    "plt.title(\"Outliers on habitable surface variable\")\n",
    "plt.xlabel(\"Habitable surface in m2\")\n",
    "plt.show()"
   ]
  },
  {
   "cell_type": "code",
   "execution_count": 33,
   "metadata": {},
   "outputs": [],
   "source": [
    "# Delete prices above 1000.0000\n",
    "df = df[df['price'] < 1_000_000]"
   ]
  },
  {
   "cell_type": "code",
   "execution_count": 34,
   "metadata": {},
   "outputs": [],
   "source": [
    "# Delete outliers on habitable surface = delete 0,5 % bigger habitable surface\n",
    "df=df[df['habitableSurface']<df['habitableSurface'].quantile(0.995)]\n"
   ]
  },
  {
   "cell_type": "markdown",
   "metadata": {},
   "source": [
    "#### Save the cleaned data to csv file "
   ]
  },
  {
   "cell_type": "code",
   "execution_count": 35,
   "metadata": {},
   "outputs": [
    {
     "name": "stdout",
     "output_type": "stream",
     "text": [
      "df saved as 'cleaned_data_kangaroo.csv'\n"
     ]
    }
   ],
   "source": [
    "df.to_csv(\"cleaned_data_kangaroo.csv\", index=False)\n",
    "print (\"df saved as 'cleaned_data_kangaroo.csv'\")"
   ]
  }
 ],
 "metadata": {
  "kernelspec": {
   "display_name": "Python 3",
   "language": "python",
   "name": "python3"
  },
  "language_info": {
   "codemirror_mode": {
    "name": "ipython",
    "version": 3
   },
   "file_extension": ".py",
   "mimetype": "text/x-python",
   "name": "python",
   "nbconvert_exporter": "python",
   "pygments_lexer": "ipython3",
   "version": "3.12.8"
  }
 },
 "nbformat": 4,
 "nbformat_minor": 2
}
